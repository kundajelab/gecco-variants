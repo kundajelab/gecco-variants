{
 "cells": [
  {
   "cell_type": "code",
   "execution_count": 1,
   "metadata": {
    "ExecuteTime": {
     "end_time": "2020-09-10T20:13:32.699319Z",
     "start_time": "2020-09-10T20:13:23.221742Z"
    }
   },
   "outputs": [
    {
     "name": "stdout",
     "output_type": "stream",
     "text": [
      "WARNING:tensorflow:From /users/annashch/miniconda3/lib/python3.7/site-packages/tensorflow/python/compat/v2_compat.py:96: disable_resource_variables (from tensorflow.python.ops.variable_scope) is deprecated and will be removed in a future version.\n",
      "Instructions for updating:\n",
      "non-resource variables are not supported in the long term\n"
     ]
    },
    {
     "name": "stderr",
     "output_type": "stream",
     "text": [
      "Using TensorFlow backend.\n",
      "/users/annashch/kerasAC/kerasAC/vis/plot_letters.py:172: FutureWarning: arrays to stack must be passed as a \"sequence\" type such as list or tuple. Support for non-sequence iterables such as generators is deprecated as of NumPy 1.16 and will raise an error in the future.\n",
      "  min_coords = np.vstack(data.min(0) for data in polygons_data).min(0)\n",
      "/users/annashch/kerasAC/kerasAC/vis/plot_letters.py:173: FutureWarning: arrays to stack must be passed as a \"sequence\" type such as list or tuple. Support for non-sequence iterables such as generators is deprecated as of NumPy 1.16 and will raise an error in the future.\n",
      "  max_coords = np.vstack(data.max(0) for data in polygons_data).max(0)\n"
     ]
    }
   ],
   "source": [
    "%load_ext autoreload\n",
    "%reload_ext autoreload\n",
    "\n",
    "%autoreload 2\n",
    "%matplotlib inline\n",
    "import math\n",
    "import tensorflow\n",
    "from tensorflow.compat.v1.keras.backend import get_session\n",
    "tensorflow.compat.v1.disable_v2_behavior()\n",
    "import kerasAC \n",
    "from kerasAC.generators.snp_generator import *\n",
    "from kerasAC.tiledb_config import *\n",
    "from scipy.special import softmax\n",
    "from kerasAC.interpret.deepshap import * \n",
    "from kerasAC.interpret.profile_shap import * \n",
    "from kerasAC.vis import * \n",
    "from kerasAC.helpers.transform_bpnet_io import * "
   ]
  },
  {
   "cell_type": "code",
   "execution_count": 2,
   "metadata": {
    "ExecuteTime": {
     "end_time": "2020-09-10T20:13:32.828508Z",
     "start_time": "2020-09-10T20:13:32.702111Z"
    }
   },
   "outputs": [
    {
     "data": {
      "text/html": [
       "<div>\n",
       "<style scoped>\n",
       "    .dataframe tbody tr th:only-of-type {\n",
       "        vertical-align: middle;\n",
       "    }\n",
       "\n",
       "    .dataframe tbody tr th {\n",
       "        vertical-align: top;\n",
       "    }\n",
       "\n",
       "    .dataframe thead th {\n",
       "        text-align: right;\n",
       "    }\n",
       "</style>\n",
       "<table border=\"1\" class=\"dataframe\">\n",
       "  <thead>\n",
       "    <tr style=\"text-align: right;\">\n",
       "      <th></th>\n",
       "      <th>Chrom</th>\n",
       "      <th>StartPos</th>\n",
       "      <th>EndPos</th>\n",
       "      <th>Ref</th>\n",
       "      <th>Alt</th>\n",
       "      <th>Rsid</th>\n",
       "    </tr>\n",
       "  </thead>\n",
       "  <tbody>\n",
       "    <tr>\n",
       "      <th>0</th>\n",
       "      <td>chr11</td>\n",
       "      <td>111154071</td>\n",
       "      <td>111154072</td>\n",
       "      <td>A</td>\n",
       "      <td>C</td>\n",
       "      <td>rs7130173</td>\n",
       "    </tr>\n",
       "    <tr>\n",
       "      <th>1</th>\n",
       "      <td>chr14</td>\n",
       "      <td>51359099</td>\n",
       "      <td>51359100</td>\n",
       "      <td>C</td>\n",
       "      <td>G</td>\n",
       "      <td>rs72685323</td>\n",
       "    </tr>\n",
       "    <tr>\n",
       "      <th>2</th>\n",
       "      <td>chr8</td>\n",
       "      <td>128571854</td>\n",
       "      <td>128571855</td>\n",
       "      <td>G</td>\n",
       "      <td>T</td>\n",
       "      <td>rs4313119</td>\n",
       "    </tr>\n",
       "    <tr>\n",
       "      <th>3</th>\n",
       "      <td>chr8</td>\n",
       "      <td>128576703</td>\n",
       "      <td>128576704</td>\n",
       "      <td>T</td>\n",
       "      <td>A</td>\n",
       "      <td>rs12676089</td>\n",
       "    </tr>\n",
       "    <tr>\n",
       "      <th>4</th>\n",
       "      <td>chr8</td>\n",
       "      <td>128575521</td>\n",
       "      <td>128575522</td>\n",
       "      <td>C</td>\n",
       "      <td>A</td>\n",
       "      <td>rs7386816</td>\n",
       "    </tr>\n",
       "  </tbody>\n",
       "</table>\n",
       "</div>"
      ],
      "text/plain": [
       "   Chrom   StartPos     EndPos Ref Alt        Rsid\n",
       "0  chr11  111154071  111154072   A   C   rs7130173\n",
       "1  chr14   51359099   51359100   C   G  rs72685323\n",
       "2   chr8  128571854  128571855   G   T   rs4313119\n",
       "3   chr8  128576703  128576704   T   A  rs12676089\n",
       "4   chr8  128575521  128575522   C   A   rs7386816"
      ]
     },
     "execution_count": 2,
     "metadata": {},
     "output_type": "execute_result"
    }
   ],
   "source": [
    "varients=pd.read_csv(\"variants.with.rsid.bed\",header=0,sep='\\t')\n",
    "varients.head()"
   ]
  },
  {
   "cell_type": "code",
   "execution_count": 3,
   "metadata": {
    "ExecuteTime": {
     "end_time": "2020-09-10T20:13:32.908858Z",
     "start_time": "2020-09-10T20:13:32.830689Z"
    }
   },
   "outputs": [],
   "source": [
    "import pyBigWig \n",
    "pbw=pyBigWig.open(\"C_merged.bam.bpnet.unstranded.bw\",'r')"
   ]
  },
  {
   "cell_type": "code",
   "execution_count": 4,
   "metadata": {
    "ExecuteTime": {
     "end_time": "2020-09-10T20:13:33.028222Z",
     "start_time": "2020-09-10T20:13:32.912915Z"
    }
   },
   "outputs": [],
   "source": [
    "#reference allele sequence generator \n",
    "ref_gen=SNPGenerator(bed_path=\"variants.with.rsid.bed\",\n",
    "                 chrom_col=\"Chrom\",\n",
    "                 pos_col=\"StartPos\",\n",
    "                 allele_col=\"Ref\",\n",
    "                 rsid_col='Rsid',\n",
    "                 flank_size=673,\n",
    "                 ref_fasta=\"/mnt/data/male.hg19.fa\",\n",
    "                 expand_dims=False)\n",
    "\n",
    "#alternate allele sequence generator \n",
    "alt_gen=SNPGenerator(bed_path=\"variants.with.rsid.bed\",\n",
    "                 chrom_col=\"Chrom\",\n",
    "                 pos_col=\"StartPos\",\n",
    "                 allele_col=\"Alt\",\n",
    "                 rsid_col='Rsid',\n",
    "                 flank_size=673,\n",
    "                 ref_fasta=\"/mnt/data/male.hg19.fa\",\n",
    "                 expand_dims=False)\n"
   ]
  },
  {
   "cell_type": "code",
   "execution_count": 135,
   "metadata": {
    "ExecuteTime": {
     "end_time": "2020-09-10T19:57:15.117375Z",
     "start_time": "2020-09-10T19:57:14.322421Z"
    }
   },
   "outputs": [
    {
     "data": {
      "text/plain": [
       "24"
      ]
     },
     "execution_count": 135,
     "metadata": {},
     "output_type": "execute_result"
    }
   ],
   "source": [
    "len(ref_gen)"
   ]
  },
  {
   "cell_type": "code",
   "execution_count": 5,
   "metadata": {
    "ExecuteTime": {
     "end_time": "2020-09-10T20:13:45.871298Z",
     "start_time": "2020-09-10T20:13:39.154220Z"
    }
   },
   "outputs": [
    {
     "name": "stdout",
     "output_type": "stream",
     "text": [
      "WARNING:tensorflow:From /users/annashch/miniconda3/lib/python3.7/site-packages/tensorflow/python/ops/resource_variable_ops.py:1666: calling BaseResourceVariable.__init__ (from tensorflow.python.ops.resource_variable_ops) with constraint is deprecated and will be removed in a future version.\n",
      "Instructions for updating:\n",
      "If using Keras pass *_constraint arguments to layers.\n"
     ]
    }
   ],
   "source": [
    "#load the model! \n",
    "from keras.models import load_model\n",
    "from keras.utils.generic_utils import get_custom_objects\n",
    "from kerasAC.metrics import * \n",
    "from kerasAC.custom_losses import * \n",
    "custom_objects={\"recall\":recall,\n",
    "                    \"sensitivity\":recall,\n",
    "                    \"specificity\":specificity,\n",
    "                    \"fpr\":fpr,\n",
    "                    \"fnr\":fnr,\n",
    "                    \"precision\":precision,\n",
    "                    \"f1\":f1,\n",
    "                    \"ambig_binary_crossentropy\":ambig_binary_crossentropy,\n",
    "                    \"ambig_mean_absolute_error\":ambig_mean_absolute_error,\n",
    "                    \"ambig_mean_squared_error\":ambig_mean_squared_error,\n",
    "                    \"MultichannelMultinomialNLL\":MultichannelMultinomialNLL}\n",
    "get_custom_objects().update(custom_objects)\n",
    "model=load_model(\"/srv/scratch/annashch/gecco/bpnet/control/bias_corrected_bpnet/bias_corrected_model.0.hdf5\")"
   ]
  },
  {
   "cell_type": "code",
   "execution_count": 6,
   "metadata": {
    "ExecuteTime": {
     "end_time": "2020-09-10T20:15:19.310573Z",
     "start_time": "2020-09-10T20:13:45.874386Z"
    }
   },
   "outputs": [
    {
     "name": "stdout",
     "output_type": "stream",
     "text": [
      "0\n",
      "1\n",
      "2\n",
      "3\n",
      "4\n",
      "5\n",
      "6\n",
      "7\n",
      "8\n",
      "9\n",
      "10\n",
      "11\n",
      "12\n",
      "13\n",
      "14\n",
      "15\n",
      "16\n",
      "17\n",
      "18\n",
      "19\n",
      "20\n",
      "21\n",
      "22\n",
      "23\n"
     ]
    }
   ],
   "source": [
    "#get the reference allele predictions \n",
    "count_preds={} \n",
    "profile_preds={} \n",
    "snp_to_seq={} \n",
    "for i in range(len(ref_gen)):\n",
    "    print(str(i))\n",
    "    cur_x=ref_gen[i] \n",
    "    batch_rsids=cur_x[0] \n",
    "    batch_preds=model.predict(cur_x[1])\n",
    "    batch_preds_profile=batch_preds[0]\n",
    "    batch_preds_count=batch_preds[1] \n",
    "    for batch_index in range(len(batch_rsids)): \n",
    "        cur_rsid=batch_rsids[batch_index]\n",
    "        snp_to_seq[cur_rsid]={} \n",
    "        snp_to_seq[cur_rsid]['ref']=cur_x[1][batch_index,:,:]\n",
    "        cur_pred_profile=batch_preds_profile[batch_index,:,:]\n",
    "        cur_pred_count=batch_preds_count[batch_index,:][0]\n",
    "        count_preds[cur_rsid]={}\n",
    "        count_preds[cur_rsid]['ref']=cur_pred_count\n",
    "        profile_preds[cur_rsid]={}\n",
    "        profile_preds[cur_rsid]['ref']=cur_pred_profile "
   ]
  },
  {
   "cell_type": "code",
   "execution_count": null,
   "metadata": {
    "ExecuteTime": {
     "start_time": "2020-09-10T20:13:41.670Z"
    }
   },
   "outputs": [
    {
     "name": "stdout",
     "output_type": "stream",
     "text": [
      "0\n"
     ]
    }
   ],
   "source": [
    "#get the alternate allele predictions \n",
    "for i in range(len(alt_gen)):\n",
    "    print(str(i))\n",
    "    cur_x=alt_gen[i] \n",
    "    batch_rsids=cur_x[0] \n",
    "    batch_preds=model.predict(cur_x[1])\n",
    "    batch_preds_profile=batch_preds[0]\n",
    "    batch_preds_count=batch_preds[1] \n",
    "    for batch_index in range(len(batch_rsids)): \n",
    "        cur_rsid=batch_rsids[batch_index]\n",
    "        snp_to_seq[cur_rsid]['alt']=cur_x[1][batch_index,:,:]\n",
    "        cur_pred_profile=batch_preds_profile[batch_index,:,:]\n",
    "        cur_pred_count=batch_preds_count[batch_index,:][0]\n",
    "        count_preds[cur_rsid]['alt']=cur_pred_count\n",
    "        profile_preds[cur_rsid]['alt']=cur_pred_profile "
   ]
  },
  {
   "cell_type": "code",
   "execution_count": null,
   "metadata": {
    "ExecuteTime": {
     "start_time": "2020-09-10T20:13:42.268Z"
    }
   },
   "outputs": [],
   "source": [
    "plt.plot(profile_preds[cur_rsid]['ref'])"
   ]
  },
  {
   "cell_type": "code",
   "execution_count": null,
   "metadata": {
    "ExecuteTime": {
     "start_time": "2020-09-10T20:13:43.003Z"
    }
   },
   "outputs": [],
   "source": [
    "plt.plot(softmax(profile_preds[cur_rsid]['alt'],axis=0))"
   ]
  },
  {
   "cell_type": "code",
   "execution_count": null,
   "metadata": {
    "ExecuteTime": {
     "start_time": "2020-09-10T20:13:45.221Z"
    }
   },
   "outputs": [],
   "source": [
    "#pickle the model predictions so we have them for the future \n",
    "import pickle \n",
    "#dump predictions \n",
    "with open(\"snp_count_preds.p\",'wb') as handle: \n",
    "    pickle.dump(count_preds, handle, protocol=pickle.HIGHEST_PROTOCOL)\n",
    "with open(\"snp_profile_preds.p\",'wb') as handle: \n",
    "    pickle.dump(profile_preds, handle, protocol=pickle.HIGHEST_PROTOCOL)\n",
    "#dump input sequences \n",
    "with open(\"snp_seqs.p\",'wb') as handle: \n",
    "    pickle.dump(snp_to_seq, handle, protocol=pickle.HIGHEST_PROTOCOL)\n"
   ]
  },
  {
   "cell_type": "code",
   "execution_count": null,
   "metadata": {
    "ExecuteTime": {
     "start_time": "2020-09-10T20:13:46.382Z"
    }
   },
   "outputs": [],
   "source": [
    "#convert dictionary to pandas df for easier manipulation \n",
    "count_preds_df=pd.DataFrame.from_dict(count_preds,orient='index')\n",
    "count_preds_df['Alt_Minus_Ref']=count_preds_df['alt']-count_preds_df['ref']\n",
    "#sort by difference \n",
    "count_preds_df=count_preds_df.sort_values(by=[\"Alt_Minus_Ref\"])\n",
    "count_preds_df.to_csv(\"tumor_rsid_predictions_alt_and_ref.tsv\",header=True,index=True,sep='\\t')\n",
    "\n",
    "print(count_preds_df.head())\n",
    "print(count_preds_df.tail())"
   ]
  },
  {
   "cell_type": "code",
   "execution_count": null,
   "metadata": {
    "ExecuteTime": {
     "start_time": "2020-09-10T20:13:46.807Z"
    }
   },
   "outputs": [],
   "source": [
    "varients.shape"
   ]
  },
  {
   "cell_type": "code",
   "execution_count": null,
   "metadata": {
    "ExecuteTime": {
     "start_time": "2020-09-10T20:13:47.466Z"
    }
   },
   "outputs": [],
   "source": [
    "#scatter ref vs alt log(count) pred \n",
    "from kerasAC.vis.density_scatter import * \n",
    "density_scatter(count_preds_df['ref'],count_preds_df['alt'],'Tumor log(Count) Pred Ref', 'Tumor log(Count) Pred Alt',s=10)\n"
   ]
  },
  {
   "cell_type": "code",
   "execution_count": null,
   "metadata": {
    "ExecuteTime": {
     "start_time": "2020-09-10T20:13:47.903Z"
    }
   },
   "outputs": [],
   "source": [
    "from kerasAC.helpers.transform_bpnet_io import * \n",
    "import scipy\n",
    "from scipy.spatial.distance import jensenshannon\n",
    "\n",
    "## get jensen-shannon distance between profile predictions for ref vs alt \n",
    "rsid_to_jsd={} \n",
    "for rsid in profile_preds:     \n",
    "    #convert to probability space \n",
    "    ref_profile=softmax(profile_preds[rsid]['ref'],axis=0)\n",
    "    alt_profile=softmax(profile_preds[rsid]['alt'],axis=0)\n",
    "    #smooth \n",
    "    ref_profile=scipy.ndimage.gaussian_filter1d(ref_profile, 7, axis=0, truncate=(80/14))\n",
    "    alt_profile=scipy.ndimage.gaussian_filter1d(alt_profile,7,axis=0,truncate=(80/14))\n",
    "    #get the jsd\n",
    "    cur_jsd=jensenshannon(ref_profile,alt_profile)\n",
    "    rsid_to_jsd[rsid]=cur_jsd\n",
    "#make jsd into dataframe \n",
    "#convert dictionary to pandas df for easier manipulation \n",
    "jsd_df=pd.DataFrame.from_dict(rsid_to_jsd,orient='index')"
   ]
  },
  {
   "cell_type": "code",
   "execution_count": null,
   "metadata": {
    "ExecuteTime": {
     "start_time": "2020-09-10T20:13:48.514Z"
    }
   },
   "outputs": [],
   "source": [
    "jsd_df=jsd_df.rename(columns={0:\"JSD\"})"
   ]
  },
  {
   "cell_type": "code",
   "execution_count": null,
   "metadata": {
    "ExecuteTime": {
     "start_time": "2020-09-10T20:13:49.226Z"
    }
   },
   "outputs": [],
   "source": [
    "#sort by jsd\n",
    "jsd_df=jsd_df.sort_values(by=[\"JSD\"])\n",
    "jsd_df.to_csv(\"tumor_rsid_predictions_alt_and_ref_JSD.tsv\",header=True,index=True,sep='\\t')\n",
    "\n",
    "print(jsd_df.head())\n",
    "print(jsd_df.tail())"
   ]
  },
  {
   "cell_type": "code",
   "execution_count": null,
   "metadata": {
    "ExecuteTime": {
     "start_time": "2020-09-10T20:13:49.877Z"
    }
   },
   "outputs": [],
   "source": [
    "#plot jsd distribution\n",
    "num_bins=100\n",
    "plt.rcParams[\"figure.figsize\"]=8,8\n",
    "plt.figure()\n",
    "n,bins,patches=plt.hist(jsd_df[\"JSD\"].values,num_bins,facecolor='blue',alpha=0.5)\n",
    "plt.xlabel('JSD')\n",
    "plt.title(\"JSD Ref vs Alt, Tumor\")\n",
    "\n"
   ]
  },
  {
   "cell_type": "code",
   "execution_count": null,
   "metadata": {
    "ExecuteTime": {
     "start_time": "2020-09-10T20:13:50.375Z"
    }
   },
   "outputs": [],
   "source": [
    "#get shap values for the SNPs with the highest delta \n",
    "\n",
    "#create the explainers \n",
    "model_wrapper=(model.input, model.layers[-1].output)\n",
    "count_explainer=shap.DeepExplainer(model_wrapper,data=create_background,combine_mult_and_diffref=combine_mult_and_diffref_1d)\n",
    "prof_explainer = create_explainer(model)"
   ]
  },
  {
   "cell_type": "code",
   "execution_count": null,
   "metadata": {
    "ExecuteTime": {
     "start_time": "2020-09-10T20:13:52.494Z"
    }
   },
   "outputs": [],
   "source": [
    "## for plotting \n",
    "%load_ext autoreload\n",
    "%reload_ext autoreload\n",
    "\n",
    "%autoreload 2\n",
    "%matplotlib inline\n",
    "import matplotlib \n",
    "from matplotlib import pyplot as plt\n",
    "plt.rcParams[\"figure.figsize\"]=10,5\n",
    "plt.rcParams['axes.xmargin'] = 0\n",
    "\n",
    "font = {'family' : 'normal',\n",
    "        'weight' : 'bold',\n",
    "        'size'   : 10}\n",
    "\n",
    "matplotlib.rc('font', **font)"
   ]
  },
  {
   "cell_type": "code",
   "execution_count": null,
   "metadata": {
    "ExecuteTime": {
     "start_time": "2020-09-10T20:13:53.357Z"
    }
   },
   "outputs": [],
   "source": [
    "def make_plot(rsid,\n",
    "              signal,\n",
    "              count_pred_ref,\n",
    "              count_pred_alt,\n",
    "              pred_prob_ref,\n",
    "              pred_prob_alt,\n",
    "              profile_explanations_ref, \n",
    "              seq_ref,\n",
    "              profile_explanations_alt,\n",
    "              seq_alt,\n",
    "              count_explanations_ref, \n",
    "              count_explanations_alt,\n",
    "              xmin=0,\n",
    "              xmax=1000,\n",
    "              ymin_shap=-0.1,\n",
    "              ymin_perf=-0.1,\n",
    "              ymax_shap=0.1,\n",
    "              ymax_perf=0.1):\n",
    "    plt.rcParams[\"figure.figsize\"]=20,10\n",
    "    fig, axes = plt.subplots(5, 1)\n",
    "    axes[0].plot(pred_prob_ref,label='Ref Prob',color='b')\n",
    "    axes[0].plot(pred_prob_alt,label='Alt Prob',color='r')\n",
    "    axes[0].plot(signal,label='Label Prob',color='g')\n",
    "    axes[0].set_title(str(rsid)+\"Counts Pred Ref:\"+str(count_pred_ref)+\":\"+\"Counts Pred Alt:\"+str(count_pred_alt))\n",
    "    axes[0].legend(loc=4) \n",
    "    axes[0].set_xlim(xmin,xmax)\n",
    "    axes[0].set_ylim(ymin_perf,ymax_perf)\n",
    "    axes[0].set_xticks(list(range(xmin, xmax, 50,)))    \n",
    "    \n",
    "    axes[1]=plot_seq_importance(profile_explanations_ref,seq_ref,xlim=(xmin,xmax),axes=axes[1])\n",
    "    axes[1].set_title(\"Profile Loss SHAP, Ref\")        \n",
    "    axes[1].set_ylim(ymin_shap,ymax_shap)\n",
    "    axes[1].set_xticks(list(range(xmin, xmax, 50,)))    \n",
    "\n",
    "    axes[2]=plot_seq_importance(profile_explanations_alt,seq_alt,xlim=(xmin,xmax),axes=axes[2])\n",
    "    axes[2].set_title(\"Profile Loss SHAP, Alt\")        \n",
    "    axes[2].set_ylim(ymin_shap,ymax_shap)\n",
    "    axes[2].set_xticks(list(range(xmin, xmax, 50,)))    \n",
    "    \n",
    "    \n",
    "    axes[3]=plot_seq_importance(count_explanations_ref,seq_ref,xlim=(xmin,xmax),axes=axes[3])\n",
    "    axes[3].set_title(\"Count Loss SHAP, Ref\")        \n",
    "    axes[3].set_ylim(ymin_shap,ymax_shap)\n",
    "    axes[3].set_xticks(list(range(xmin, xmax, 50,)))    \n",
    "\n",
    "    axes[4]=plot_seq_importance(count_explanations_alt,seq_alt,xlim=(xmin,xmax),axes=axes[4])\n",
    "    axes[4].set_title(\"Count Loss SHAP, Alt\")        \n",
    "    axes[4].set_ylim(ymin_shap,ymax_shap)\n",
    "    axes[4].set_xticks(list(range(xmin, xmax, 50,))) \n",
    "\n",
    "    plt.subplots_adjust(hspace=0.6)\n",
    "    plt.show()"
   ]
  },
  {
   "cell_type": "code",
   "execution_count": null,
   "metadata": {},
   "outputs": [],
   "source": []
  },
  {
   "cell_type": "code",
   "execution_count": 177,
   "metadata": {
    "ExecuteTime": {
     "end_time": "2020-09-10T20:11:07.886452Z",
     "start_time": "2020-09-10T20:11:05.931285Z"
    }
   },
   "outputs": [
    {
     "name": "stdout",
     "output_type": "stream",
     "text": [
      "chr20\n",
      "60944802\n"
     ]
    }
   ],
   "source": [
    "rsid=\"rs6089354\"\n",
    "cur_chrom=varients[varients['Rsid']==rsid]['Chrom'].values[0]\n",
    "cur_pos=varients[varients['Rsid']==rsid]['StartPos'].values[0]\n",
    "print(cur_chrom)\n",
    "print(cur_pos)"
   ]
  },
  {
   "cell_type": "code",
   "execution_count": 178,
   "metadata": {
    "ExecuteTime": {
     "end_time": "2020-09-10T20:11:08.761811Z",
     "start_time": "2020-09-10T20:11:07.888697Z"
    }
   },
   "outputs": [
    {
     "data": {
      "text/html": [
       "<div>\n",
       "<style scoped>\n",
       "    .dataframe tbody tr th:only-of-type {\n",
       "        vertical-align: middle;\n",
       "    }\n",
       "\n",
       "    .dataframe tbody tr th {\n",
       "        vertical-align: top;\n",
       "    }\n",
       "\n",
       "    .dataframe thead th {\n",
       "        text-align: right;\n",
       "    }\n",
       "</style>\n",
       "<table border=\"1\" class=\"dataframe\">\n",
       "  <thead>\n",
       "    <tr style=\"text-align: right;\">\n",
       "      <th></th>\n",
       "      <th>Chrom</th>\n",
       "      <th>StartPos</th>\n",
       "      <th>EndPos</th>\n",
       "      <th>Ref</th>\n",
       "      <th>Alt</th>\n",
       "      <th>Rsid</th>\n",
       "    </tr>\n",
       "  </thead>\n",
       "  <tbody>\n",
       "    <tr>\n",
       "      <th>8929</th>\n",
       "      <td>chr20</td>\n",
       "      <td>60944802</td>\n",
       "      <td>60944803</td>\n",
       "      <td>G</td>\n",
       "      <td>A</td>\n",
       "      <td>rs6089354</td>\n",
       "    </tr>\n",
       "  </tbody>\n",
       "</table>\n",
       "</div>"
      ],
      "text/plain": [
       "      Chrom  StartPos    EndPos Ref Alt       Rsid\n",
       "8929  chr20  60944802  60944803   G   A  rs6089354"
      ]
     },
     "execution_count": 178,
     "metadata": {},
     "output_type": "execute_result"
    }
   ],
   "source": [
    "varients[varients['Rsid']==rsid]"
   ]
  },
  {
   "cell_type": "code",
   "execution_count": 179,
   "metadata": {
    "ExecuteTime": {
     "end_time": "2020-09-10T20:11:09.595382Z",
     "start_time": "2020-09-10T20:11:08.764380Z"
    }
   },
   "outputs": [
    {
     "name": "stdout",
     "output_type": "stream",
     "text": [
      "(1000,)\n"
     ]
    }
   ],
   "source": [
    "#get the signal in probability space \n",
    "from sklearn.preprocessing import normalize\n",
    "flank=500\n",
    "signal=np.nan_to_num(pbw.values(cur_chrom,cur_pos-flank,cur_pos+flank))\n",
    "signal=signal/np.sum(signal)\n",
    "print(signal.shape)\n"
   ]
  },
  {
   "cell_type": "code",
   "execution_count": 180,
   "metadata": {
    "ExecuteTime": {
     "end_time": "2020-09-10T20:11:10.937037Z",
     "start_time": "2020-09-10T20:11:09.600885Z"
    }
   },
   "outputs": [],
   "source": [
    "#let's explain the RSID \n",
    "\n",
    "signal_sum=math.log(sum(pbw.values(cur_chrom,cur_pos-flank,cur_pos+flank)))\n",
    "\n",
    "cur_seq_ref=np.expand_dims(snp_to_seq[rsid]['ref'],axis=0)\n",
    "cur_seq_alt=np.expand_dims(snp_to_seq[rsid]['alt'],axis=0)\n",
    "count_pred_ref=count_preds[rsid]['ref']\n",
    "count_pred_alt=count_preds[rsid]['alt']\n",
    "pred_prob_ref=softmax(profile_preds[rsid]['ref'],axis=0)\n",
    "pred_prob_alt=softmax(profile_preds[rsid]['alt'],axis=0)\n",
    "profile_explanations_ref=prof_explainer(cur_seq_ref,None,None)\n",
    "count_explanations_ref=np.squeeze(count_explainer.shap_values(cur_seq_ref)[0])\n",
    "profile_explanations_alt=prof_explainer(cur_seq_alt,None,None)\n",
    "count_explanations_alt=np.squeeze(count_explainer.shap_values(cur_seq_alt)[0])\n"
   ]
  },
  {
   "cell_type": "code",
   "execution_count": null,
   "metadata": {
    "ExecuteTime": {
     "start_time": "2020-09-10T20:11:07.630Z"
    }
   },
   "outputs": [],
   "source": [
    "make_plot(rsid,\n",
    "          signal,\n",
    "          count_pred_ref,\n",
    "          count_pred_alt,\n",
    "          pred_prob_ref,\n",
    "          pred_prob_alt,\n",
    "          profile_explanations_ref[:,173:173+1000,:],\n",
    "          cur_seq_ref[:,173:173+1000,:],\n",
    "          profile_explanations_alt[:,173:173+1000,:],\n",
    "          cur_seq_alt[:,173:173+1000,:],\n",
    "          count_explanations_ref[173:173+1000,:],\n",
    "          count_explanations_alt[173:173+1000,:],\n",
    "          xmin=0,\n",
    "          xmax=1000,\n",
    "          ymin_shap=-0.01,\n",
    "          ymin_perf=-0.01,\n",
    "          ymax_shap=0.02,\n",
    "          ymax_perf=0.02)"
   ]
  },
  {
   "cell_type": "code",
   "execution_count": 176,
   "metadata": {
    "ExecuteTime": {
     "end_time": "2020-09-10T20:09:55.594824Z",
     "start_time": "2020-09-10T20:09:38.215678Z"
    }
   },
   "outputs": [
    {
     "data": {
      "image/png": "[encoded data removed]",
      "text/plain": [
       "<Figure size 1440x720 with 5 Axes>"
      ]
     },
     "metadata": {
      "needs_background": "light"
     },
     "output_type": "display_data"
    }
   ],
   "source": [
    "make_plot(rsid,\n",
    "          signal,\n",
    "          count_pred_ref,\n",
    "          count_pred_alt,\n",
    "          pred_prob_ref,\n",
    "          pred_prob_alt,\n",
    "          profile_explanations_ref[:,173:173+1000,:],\n",
    "          cur_seq_ref[:,173:173+1000,:],\n",
    "          profile_explanations_alt[:,173:173+1000,:],\n",
    "          cur_seq_alt[:,173:173+1000,:],\n",
    "          count_explanations_ref[173:173+1000,:],\n",
    "          count_explanations_alt[173:173+1000,:],\n",
    "          xmin=400,\n",
    "          xmax=600,\n",
    "          ymin_shap=-0.01,\n",
    "          ymin_perf=-0.01,\n",
    "          ymax_shap=0.02,\n",
    "          ymax_perf=0.02)"
   ]
  },
  {
   "cell_type": "code",
   "execution_count": null,
   "metadata": {},
   "outputs": [],
   "source": []
  }
 ],
 "metadata": {
  "kernelspec": {
   "display_name": "Python 3",
   "language": "python",
   "name": "python3"
  },
  "language_info": {
   "codemirror_mode": {
    "name": "ipython",
    "version": 3
   },
   "file_extension": ".py",
   "mimetype": "text/x-python",
   "name": "python",
   "nbconvert_exporter": "python",
   "pygments_lexer": "ipython3",
   "version": "3.7.6"
  }
 },
 "nbformat": 4,
 "nbformat_minor": 4
}
