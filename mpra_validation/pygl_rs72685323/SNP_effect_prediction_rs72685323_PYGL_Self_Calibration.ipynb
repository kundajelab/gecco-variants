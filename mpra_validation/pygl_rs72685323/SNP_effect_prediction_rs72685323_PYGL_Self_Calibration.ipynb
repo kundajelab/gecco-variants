{
 "cells": [
  {
   "cell_type": "code",
   "execution_count": 1,
   "metadata": {},
   "outputs": [],
   "source": [
    "#load the variables specific to this dataset \n",
    "#on brahma, SNPs have been split by DL CV split \n",
    "snp_prefix=\"/srv/scratch/annashch/gecco/mpra_validation/pygl_rs72685323/splits\"\n",
    "model_prefix=\"/srv/scratch/annashch/deeplearning/gecco/crossvalid/v4/gecco.classification.SummitWithin200bpCenter\"\n",
    "test_set_prefix=\"/srv/scratch/annashch/deeplearning/gecco/crossvalid/v4/predictions\"\n",
    "n_folds=10 \n",
    "num_tasks=5 \n",
    "all_snps_basename=\"rs72685323_14_51359100_100k.collapsed.txt\"\n",
    "target_layer_idx=-2\n",
    "tasks=['DNASEC','DNASEV','SW480','HCT116','COLO205']\n",
    "outf_name=\"SNP_effect_predictions.selfcalibration.txt\"\n",
    "ref_fasta=\"/mnt/data/annotations/by_release/hg19.GRCh37/hg19.genome.fa\""
   ]
  },
  {
   "cell_type": "code",
   "execution_count": 2,
   "metadata": {},
   "outputs": [
    {
     "name": "stderr",
     "output_type": "stream",
     "text": [
      "Using TensorFlow backend.\n"
     ]
    }
   ],
   "source": [
    "#load the dependencies\n",
    "%reload_ext autoreload\n",
    "%autoreload 2\n",
    "%matplotlib inline\n",
    "\n",
    "import warnings\n",
    "warnings.filterwarnings('ignore')\n",
    "import pandas as pd \n",
    "import pickle \n",
    "from abstention.calibration import PlattScaling, IsotonicRegression\n",
    "from keras.models import load_model, Model \n",
    "\n",
    "from kerasAC.metrics import recall, specificity, fpr, fnr, precision, f1\n",
    "from kerasAC.custom_losses import get_ambig_binary_crossentropy\n",
    "from kerasAC.generators import * \n",
    "from kerasAC.predict import get_model_layer_functor, get_layer_outputs\n"
   ]
  },
  {
   "cell_type": "markdown",
   "metadata": {},
   "source": [
    "## Get Ref/Alt predictions and pre-activations "
   ]
  },
  {
   "cell_type": "code",
   "execution_count": 3,
   "metadata": {},
   "outputs": [],
   "source": [
    "def load_keras_model(fold,model_prefix,target_layer_idx):    \n",
    "    #load the model\n",
    "    custom_objects={\"recall\":recall,\n",
    "                    \"sensitivity\":recall,\n",
    "                    \"specificity\":specificity,\n",
    "                    \"fpr\":fpr,\n",
    "                    \"fnr\":fnr,\n",
    "                    \"precision\":precision,\n",
    "                    \"f1\":f1,\n",
    "                    \"ambig_binary_crossentropy\":get_ambig_binary_crossentropy()}\n",
    "    model=load_model(\".\".join([model_prefix,str(fold)]),custom_objects=custom_objects)\n",
    "    print(\"loaded model\")\n",
    "    #load the model to predict preacts \n",
    "    preact_model=Model(inputs=model.input,\n",
    "                       outputs=model.layers[target_layer_idx].output)\n",
    "    print(\"loaded preact model\")\n",
    "    return model,preact_model"
   ]
  },
  {
   "cell_type": "code",
   "execution_count": 4,
   "metadata": {},
   "outputs": [],
   "source": [
    "def get_test_set_logits_and_labels(fold,test_set_prefix):\n",
    "    test_set_pickle_name='.'.join([test_set_prefix,str(fold)])\n",
    "    test_set_pickle=pickle.load(open(test_set_pickle_name,'rb'))\n",
    "    test_set_labels=test_set_pickle[1]\n",
    "    test_set_logits=test_set_pickle[2] \n",
    "    return test_set_labels, test_set_logits \n",
    "\n",
    "    "
   ]
  },
  {
   "cell_type": "code",
   "execution_count": 5,
   "metadata": {},
   "outputs": [],
   "source": [
    "def get_calibration_function_classification(logits,labels):\n",
    "    #need to generate separate calibration function for each task \n",
    "    num_tasks=logits.shape[1] \n",
    "    calibration_funcs=[] \n",
    "    for task_index in range(num_tasks):\n",
    "        calibration_funcs.append(PlattScaling()(\n",
    "            valid_preacts=logits[:,task_index],\n",
    "            valid_labels=labels.iloc[:,task_index].astype(bool)))\n",
    "    return calibration_funcs"
   ]
  },
  {
   "cell_type": "code",
   "execution_count": 6,
   "metadata": {},
   "outputs": [],
   "source": [
    "def get_calibration_function_regression(preacts,labels):\n",
    "    #need to generate separate calibration function for each task \n",
    "    num_tasks=preacts.shape[1]\n",
    "    calibration_funcs=[] \n",
    "    for task_index in range(num_tasks):\n",
    "        calibration_funcs.append(IsotonicRegression()(\n",
    "            valid_preacts=preacts[:,task_index],\n",
    "            valid_labels=labels.iloc[:,task_index]))\n",
    "    return calibration_funcs"
   ]
  },
  {
   "cell_type": "code",
   "execution_count": 7,
   "metadata": {},
   "outputs": [],
   "source": [
    "def get_snp_generators(fold,snp_prefix,all_snps_basename,ref_fasta):\n",
    "    snp_file='/'.join([snp_prefix,all_snps_basename+\".\"+str(fold)])\n",
    "    snps=pd.read_csv(snp_file,header=0,sep='\\t')\n",
    "    if snps.shape[0]==0: \n",
    "        return None,None\n",
    "    snp_ref_generator=SNPGenerator(snp_file,\n",
    "                                   ref_fasta=ref_fasta,\n",
    "                                   allele_col=\"Ref\")\n",
    "    snp_alt_generator=SNPGenerator(snp_file,\n",
    "                                   ref_fasta=ref_fasta,\n",
    "                                   allele_col=\"Alt\")\n",
    "    return snps, snp_ref_generator,snp_alt_generator"
   ]
  },
  {
   "cell_type": "code",
   "execution_count": 8,
   "metadata": {},
   "outputs": [],
   "source": [
    "def get_calibrated_predictions(logits,calibration_functions): \n",
    "    num_tasks=logits.shape[1] \n",
    "    num_calibration_functions=len(calibration_functions)\n",
    "    assert num_tasks == num_calibration_functions \n",
    "    calibrated_predictions=None \n",
    "    for i in range(num_tasks): \n",
    "        task_calibrated_predictions=np.expand_dims(calibration_functions[i](logits[:,i]),axis=1)\n",
    "        if calibrated_predictions is None: \n",
    "            calibrated_predictions=task_calibrated_predictions\n",
    "        else: \n",
    "            calibrated_predictions=np.concatenate((calibrated_predictions,task_calibrated_predictions),axis=1)\n",
    "    print(calibrated_predictions.shape)\n",
    "    return calibrated_predictions "
   ]
  },
  {
   "cell_type": "code",
   "execution_count": 9,
   "metadata": {},
   "outputs": [
    {
     "name": "stdout",
     "output_type": "stream",
     "text": [
      "0\n",
      "fold:0 appears to be empty, skipping\n",
      "1\n",
      "fold:1 appears to be empty, skipping\n",
      "2\n",
      "fold:2 appears to be empty, skipping\n",
      "3\n",
      "fold:3 appears to be empty, skipping\n",
      "4\n",
      "fold:4 appears to be empty, skipping\n",
      "5\n",
      "fold:5 appears to be empty, skipping\n",
      "6\n",
      "loaded labels\n",
      "filtered on chroms_to_use\n",
      "data.shape:(703, 8)\n",
      "loaded labels\n",
      "filtered on chroms_to_use\n",
      "data.shape:(703, 8)\n",
      "Got snp ref and alt generators\n"
     ]
    },
    {
     "ename": "ResourceExhaustedError",
     "evalue": "OOM when allocating tensor with shape[200] and type float on /job:localhost/replica:0/task:0/device:GPU:0 by allocator GPU_0_bfc\n\t [[node batch_normalization_2/beta/Assign (defined at /users/annashch/miniconda3/lib/python3.6/site-packages/keras/backend/tensorflow_backend.py:402)  = Assign[T=DT_FLOAT, _grappler_relax_allocator_constraints=true, use_locking=true, validate_shape=true, _device=\"/job:localhost/replica:0/task:0/device:GPU:0\"](batch_normalization_2/beta, batch_normalization_2/Const_1)]]\nHint: If you want to see a list of allocated tensors when OOM happens, add report_tensor_allocations_upon_oom to RunOptions for current allocation info.\n\n\nCaused by op 'batch_normalization_2/beta/Assign', defined at:\n  File \"/users/annashch/miniconda3/lib/python3.6/runpy.py\", line 193, in _run_module_as_main\n    \"__main__\", mod_spec)\n  File \"/users/annashch/miniconda3/lib/python3.6/runpy.py\", line 85, in _run_code\n    exec(code, run_globals)\n  File \"/users/annashch/miniconda3/lib/python3.6/site-packages/ipykernel_launcher.py\", line 16, in <module>\n    app.launch_new_instance()\n  File \"/users/annashch/miniconda3/lib/python3.6/site-packages/traitlets/config/application.py\", line 658, in launch_instance\n    app.start()\n  File \"/users/annashch/miniconda3/lib/python3.6/site-packages/ipykernel/kernelapp.py\", line 486, in start\n    self.io_loop.start()\n  File \"/users/annashch/miniconda3/lib/python3.6/site-packages/tornado/platform/asyncio.py\", line 112, in start\n    self.asyncio_loop.run_forever()\n  File \"/users/annashch/miniconda3/lib/python3.6/asyncio/base_events.py\", line 438, in run_forever\n    self._run_once()\n  File \"/users/annashch/miniconda3/lib/python3.6/asyncio/base_events.py\", line 1451, in _run_once\n    handle._run()\n  File \"/users/annashch/miniconda3/lib/python3.6/asyncio/events.py\", line 145, in _run\n    self._callback(*self._args)\n  File \"/users/annashch/miniconda3/lib/python3.6/site-packages/tornado/ioloop.py\", line 760, in _run_callback\n    ret = callback()\n  File \"/users/annashch/miniconda3/lib/python3.6/site-packages/tornado/stack_context.py\", line 276, in null_wrapper\n    return fn(*args, **kwargs)\n  File \"/users/annashch/miniconda3/lib/python3.6/site-packages/zmq/eventloop/zmqstream.py\", line 536, in <lambda>\n    self.io_loop.add_callback(lambda : self._handle_events(self.socket, 0))\n  File \"/users/annashch/miniconda3/lib/python3.6/site-packages/zmq/eventloop/zmqstream.py\", line 450, in _handle_events\n    self._handle_recv()\n  File \"/users/annashch/miniconda3/lib/python3.6/site-packages/zmq/eventloop/zmqstream.py\", line 480, in _handle_recv\n    self._run_callback(callback, msg)\n  File \"/users/annashch/miniconda3/lib/python3.6/site-packages/zmq/eventloop/zmqstream.py\", line 432, in _run_callback\n    callback(*args, **kwargs)\n  File \"/users/annashch/miniconda3/lib/python3.6/site-packages/tornado/stack_context.py\", line 276, in null_wrapper\n    return fn(*args, **kwargs)\n  File \"/users/annashch/miniconda3/lib/python3.6/site-packages/ipykernel/kernelbase.py\", line 283, in dispatcher\n    return self.dispatch_shell(stream, msg)\n  File \"/users/annashch/miniconda3/lib/python3.6/site-packages/ipykernel/kernelbase.py\", line 233, in dispatch_shell\n    handler(stream, idents, msg)\n  File \"/users/annashch/miniconda3/lib/python3.6/site-packages/ipykernel/kernelbase.py\", line 399, in execute_request\n    user_expressions, allow_stdin)\n  File \"/users/annashch/miniconda3/lib/python3.6/site-packages/ipykernel/ipkernel.py\", line 208, in do_execute\n    res = shell.run_cell(code, store_history=store_history, silent=silent)\n  File \"/users/annashch/miniconda3/lib/python3.6/site-packages/ipykernel/zmqshell.py\", line 537, in run_cell\n    return super(ZMQInteractiveShell, self).run_cell(*args, **kwargs)\n  File \"/users/annashch/miniconda3/lib/python3.6/site-packages/IPython/core/interactiveshell.py\", line 2662, in run_cell\n    raw_cell, store_history, silent, shell_futures)\n  File \"/users/annashch/miniconda3/lib/python3.6/site-packages/IPython/core/interactiveshell.py\", line 2785, in _run_cell\n    interactivity=interactivity, compiler=compiler, result=result)\n  File \"/users/annashch/miniconda3/lib/python3.6/site-packages/IPython/core/interactiveshell.py\", line 2903, in run_ast_nodes\n    if self.run_code(code, result):\n  File \"/users/annashch/miniconda3/lib/python3.6/site-packages/IPython/core/interactiveshell.py\", line 2963, in run_code\n    exec(code_obj, self.user_global_ns, self.user_ns)\n  File \"<ipython-input-9-1b1a64a65d6b>\", line 19, in <module>\n    model,preact_model = load_keras_model(fold,model_prefix,target_layer_idx)\n  File \"<ipython-input-3-604243db0e72>\", line 11, in load_keras_model\n    model=load_model(\".\".join([model_prefix,str(fold)]),custom_objects=custom_objects)\n  File \"/users/annashch/miniconda3/lib/python3.6/site-packages/keras/engine/saving.py\", line 419, in load_model\n    model = _deserialize_model(f, custom_objects, compile)\n  File \"/users/annashch/miniconda3/lib/python3.6/site-packages/keras/engine/saving.py\", line 225, in _deserialize_model\n    model = model_from_config(model_config, custom_objects=custom_objects)\n  File \"/users/annashch/miniconda3/lib/python3.6/site-packages/keras/engine/saving.py\", line 458, in model_from_config\n    return deserialize(config, custom_objects=custom_objects)\n  File \"/users/annashch/miniconda3/lib/python3.6/site-packages/keras/layers/__init__.py\", line 55, in deserialize\n    printable_module_name='layer')\n  File \"/users/annashch/miniconda3/lib/python3.6/site-packages/keras/utils/generic_utils.py\", line 145, in deserialize_keras_object\n    list(custom_objects.items())))\n  File \"/users/annashch/miniconda3/lib/python3.6/site-packages/keras/engine/sequential.py\", line 301, in from_config\n    model.add(layer)\n  File \"/users/annashch/miniconda3/lib/python3.6/site-packages/keras/engine/sequential.py\", line 181, in add\n    output_tensor = layer(self.outputs[0])\n  File \"/users/annashch/miniconda3/lib/python3.6/site-packages/keras/engine/base_layer.py\", line 431, in __call__\n    self.build(unpack_singleton(input_shapes))\n  File \"/users/annashch/miniconda3/lib/python3.6/site-packages/keras/layers/normalization.py\", line 117, in build\n    constraint=self.beta_constraint)\n  File \"/users/annashch/miniconda3/lib/python3.6/site-packages/keras/legacy/interfaces.py\", line 91, in wrapper\n    return func(*args, **kwargs)\n  File \"/users/annashch/miniconda3/lib/python3.6/site-packages/keras/engine/base_layer.py\", line 252, in add_weight\n    constraint=constraint)\n  File \"/users/annashch/miniconda3/lib/python3.6/site-packages/keras/backend/tensorflow_backend.py\", line 402, in variable\n    v = tf.Variable(value, dtype=tf.as_dtype(dtype), name=name)\n  File \"/users/annashch/miniconda3/lib/python3.6/site-packages/tensorflow/python/ops/variables.py\", line 183, in __call__\n    return cls._variable_v1_call(*args, **kwargs)\n  File \"/users/annashch/miniconda3/lib/python3.6/site-packages/tensorflow/python/ops/variables.py\", line 146, in _variable_v1_call\n    aggregation=aggregation)\n  File \"/users/annashch/miniconda3/lib/python3.6/site-packages/tensorflow/python/ops/variables.py\", line 125, in <lambda>\n    previous_getter = lambda **kwargs: default_variable_creator(None, **kwargs)\n  File \"/users/annashch/miniconda3/lib/python3.6/site-packages/tensorflow/python/ops/variable_scope.py\", line 2444, in default_variable_creator\n    expected_shape=expected_shape, import_scope=import_scope)\n  File \"/users/annashch/miniconda3/lib/python3.6/site-packages/tensorflow/python/ops/variables.py\", line 187, in __call__\n    return super(VariableMetaclass, cls).__call__(*args, **kwargs)\n  File \"/users/annashch/miniconda3/lib/python3.6/site-packages/tensorflow/python/ops/variables.py\", line 1329, in __init__\n    constraint=constraint)\n  File \"/users/annashch/miniconda3/lib/python3.6/site-packages/tensorflow/python/ops/variables.py\", line 1481, in _init_from_args\n    validate_shape=validate_shape).op\n  File \"/users/annashch/miniconda3/lib/python3.6/site-packages/tensorflow/python/ops/state_ops.py\", line 221, in assign\n    validate_shape=validate_shape)\n  File \"/users/annashch/miniconda3/lib/python3.6/site-packages/tensorflow/python/ops/gen_state_ops.py\", line 61, in assign\n    use_locking=use_locking, name=name)\n  File \"/users/annashch/miniconda3/lib/python3.6/site-packages/tensorflow/python/framework/op_def_library.py\", line 787, in _apply_op_helper\n    op_def=op_def)\n  File \"/users/annashch/miniconda3/lib/python3.6/site-packages/tensorflow/python/util/deprecation.py\", line 488, in new_func\n    return func(*args, **kwargs)\n  File \"/users/annashch/miniconda3/lib/python3.6/site-packages/tensorflow/python/framework/ops.py\", line 3274, in create_op\n    op_def=op_def)\n  File \"/users/annashch/miniconda3/lib/python3.6/site-packages/tensorflow/python/framework/ops.py\", line 1770, in __init__\n    self._traceback = tf_stack.extract_stack()\n\nResourceExhaustedError (see above for traceback): OOM when allocating tensor with shape[200] and type float on /job:localhost/replica:0/task:0/device:GPU:0 by allocator GPU_0_bfc\n\t [[node batch_normalization_2/beta/Assign (defined at /users/annashch/miniconda3/lib/python3.6/site-packages/keras/backend/tensorflow_backend.py:402)  = Assign[T=DT_FLOAT, _grappler_relax_allocator_constraints=true, use_locking=true, validate_shape=true, _device=\"/job:localhost/replica:0/task:0/device:GPU:0\"](batch_normalization_2/beta, batch_normalization_2/Const_1)]]\nHint: If you want to see a list of allocated tensors when OOM happens, add report_tensor_allocations_upon_oom to RunOptions for current allocation info.\n\n",
     "output_type": "error",
     "traceback": [
      "\u001b[0;31m---------------------------------------------------------------------------\u001b[0m",
      "\u001b[0;31mResourceExhaustedError\u001b[0m                    Traceback (most recent call last)",
      "\u001b[0;32m~/miniconda3/lib/python3.6/site-packages/tensorflow/python/client/session.py\u001b[0m in \u001b[0;36m_do_call\u001b[0;34m(self, fn, *args)\u001b[0m\n\u001b[1;32m   1333\u001b[0m     \u001b[0;32mtry\u001b[0m\u001b[0;34m:\u001b[0m\u001b[0;34m\u001b[0m\u001b[0;34m\u001b[0m\u001b[0m\n\u001b[0;32m-> 1334\u001b[0;31m       \u001b[0;32mreturn\u001b[0m \u001b[0mfn\u001b[0m\u001b[0;34m(\u001b[0m\u001b[0;34m*\u001b[0m\u001b[0margs\u001b[0m\u001b[0;34m)\u001b[0m\u001b[0;34m\u001b[0m\u001b[0;34m\u001b[0m\u001b[0m\n\u001b[0m\u001b[1;32m   1335\u001b[0m     \u001b[0;32mexcept\u001b[0m \u001b[0merrors\u001b[0m\u001b[0;34m.\u001b[0m\u001b[0mOpError\u001b[0m \u001b[0;32mas\u001b[0m \u001b[0me\u001b[0m\u001b[0;34m:\u001b[0m\u001b[0;34m\u001b[0m\u001b[0;34m\u001b[0m\u001b[0m\n",
      "\u001b[0;32m~/miniconda3/lib/python3.6/site-packages/tensorflow/python/client/session.py\u001b[0m in \u001b[0;36m_run_fn\u001b[0;34m(feed_dict, fetch_list, target_list, options, run_metadata)\u001b[0m\n\u001b[1;32m   1318\u001b[0m       return self._call_tf_sessionrun(\n\u001b[0;32m-> 1319\u001b[0;31m           options, feed_dict, fetch_list, target_list, run_metadata)\n\u001b[0m\u001b[1;32m   1320\u001b[0m \u001b[0;34m\u001b[0m\u001b[0m\n",
      "\u001b[0;32m~/miniconda3/lib/python3.6/site-packages/tensorflow/python/client/session.py\u001b[0m in \u001b[0;36m_call_tf_sessionrun\u001b[0;34m(self, options, feed_dict, fetch_list, target_list, run_metadata)\u001b[0m\n\u001b[1;32m   1406\u001b[0m         \u001b[0mself\u001b[0m\u001b[0;34m.\u001b[0m\u001b[0m_session\u001b[0m\u001b[0;34m,\u001b[0m \u001b[0moptions\u001b[0m\u001b[0;34m,\u001b[0m \u001b[0mfeed_dict\u001b[0m\u001b[0;34m,\u001b[0m \u001b[0mfetch_list\u001b[0m\u001b[0;34m,\u001b[0m \u001b[0mtarget_list\u001b[0m\u001b[0;34m,\u001b[0m\u001b[0;34m\u001b[0m\u001b[0;34m\u001b[0m\u001b[0m\n\u001b[0;32m-> 1407\u001b[0;31m         run_metadata)\n\u001b[0m\u001b[1;32m   1408\u001b[0m \u001b[0;34m\u001b[0m\u001b[0m\n",
      "\u001b[0;31mResourceExhaustedError\u001b[0m: OOM when allocating tensor with shape[200] and type float on /job:localhost/replica:0/task:0/device:GPU:0 by allocator GPU_0_bfc\n\t [[{{node batch_normalization_2/beta/Assign}} = Assign[T=DT_FLOAT, _grappler_relax_allocator_constraints=true, use_locking=true, validate_shape=true, _device=\"/job:localhost/replica:0/task:0/device:GPU:0\"](batch_normalization_2/beta, batch_normalization_2/Const_1)]]\nHint: If you want to see a list of allocated tensors when OOM happens, add report_tensor_allocations_upon_oom to RunOptions for current allocation info.\n",
      "\nDuring handling of the above exception, another exception occurred:\n",
      "\u001b[0;31mResourceExhaustedError\u001b[0m                    Traceback (most recent call last)",
      "\u001b[0;32m<ipython-input-9-1b1a64a65d6b>\u001b[0m in \u001b[0;36m<module>\u001b[0;34m()\u001b[0m\n\u001b[1;32m     17\u001b[0m     \u001b[0;32melse\u001b[0m\u001b[0;34m:\u001b[0m\u001b[0;34m\u001b[0m\u001b[0;34m\u001b[0m\u001b[0m\n\u001b[1;32m     18\u001b[0m         \u001b[0mlabels_all\u001b[0m\u001b[0;34m=\u001b[0m\u001b[0mnp\u001b[0m\u001b[0;34m.\u001b[0m\u001b[0mconcatenate\u001b[0m\u001b[0;34m(\u001b[0m\u001b[0;34m(\u001b[0m\u001b[0mlabels_all\u001b[0m\u001b[0;34m,\u001b[0m\u001b[0mlabels\u001b[0m\u001b[0;34m)\u001b[0m\u001b[0;34m,\u001b[0m\u001b[0maxis\u001b[0m\u001b[0;34m=\u001b[0m\u001b[0;36m0\u001b[0m\u001b[0;34m)\u001b[0m\u001b[0;34m\u001b[0m\u001b[0;34m\u001b[0m\u001b[0m\n\u001b[0;32m---> 19\u001b[0;31m     \u001b[0mmodel\u001b[0m\u001b[0;34m,\u001b[0m\u001b[0mpreact_model\u001b[0m \u001b[0;34m=\u001b[0m \u001b[0mload_keras_model\u001b[0m\u001b[0;34m(\u001b[0m\u001b[0mfold\u001b[0m\u001b[0;34m,\u001b[0m\u001b[0mmodel_prefix\u001b[0m\u001b[0;34m,\u001b[0m\u001b[0mtarget_layer_idx\u001b[0m\u001b[0;34m)\u001b[0m\u001b[0;34m\u001b[0m\u001b[0;34m\u001b[0m\u001b[0m\n\u001b[0m\u001b[1;32m     20\u001b[0m     ref_preacts=preact_model.predict_generator(snp_ref_generator,\n\u001b[1;32m     21\u001b[0m                 \u001b[0mmax_queue_size\u001b[0m\u001b[0;34m=\u001b[0m\u001b[0;36m5000\u001b[0m\u001b[0;34m,\u001b[0m\u001b[0;34m\u001b[0m\u001b[0;34m\u001b[0m\u001b[0m\n",
      "\u001b[0;32m<ipython-input-3-604243db0e72>\u001b[0m in \u001b[0;36mload_keras_model\u001b[0;34m(fold, model_prefix, target_layer_idx)\u001b[0m\n\u001b[1;32m      9\u001b[0m                     \u001b[0;34m\"f1\"\u001b[0m\u001b[0;34m:\u001b[0m\u001b[0mf1\u001b[0m\u001b[0;34m,\u001b[0m\u001b[0;34m\u001b[0m\u001b[0;34m\u001b[0m\u001b[0m\n\u001b[1;32m     10\u001b[0m                     \"ambig_binary_crossentropy\":get_ambig_binary_crossentropy()}\n\u001b[0;32m---> 11\u001b[0;31m     \u001b[0mmodel\u001b[0m\u001b[0;34m=\u001b[0m\u001b[0mload_model\u001b[0m\u001b[0;34m(\u001b[0m\u001b[0;34m\".\"\u001b[0m\u001b[0;34m.\u001b[0m\u001b[0mjoin\u001b[0m\u001b[0;34m(\u001b[0m\u001b[0;34m[\u001b[0m\u001b[0mmodel_prefix\u001b[0m\u001b[0;34m,\u001b[0m\u001b[0mstr\u001b[0m\u001b[0;34m(\u001b[0m\u001b[0mfold\u001b[0m\u001b[0;34m)\u001b[0m\u001b[0;34m]\u001b[0m\u001b[0;34m)\u001b[0m\u001b[0;34m,\u001b[0m\u001b[0mcustom_objects\u001b[0m\u001b[0;34m=\u001b[0m\u001b[0mcustom_objects\u001b[0m\u001b[0;34m)\u001b[0m\u001b[0;34m\u001b[0m\u001b[0;34m\u001b[0m\u001b[0m\n\u001b[0m\u001b[1;32m     12\u001b[0m     \u001b[0mprint\u001b[0m\u001b[0;34m(\u001b[0m\u001b[0;34m\"loaded model\"\u001b[0m\u001b[0;34m)\u001b[0m\u001b[0;34m\u001b[0m\u001b[0;34m\u001b[0m\u001b[0m\n\u001b[1;32m     13\u001b[0m     \u001b[0;31m#load the model to predict preacts\u001b[0m\u001b[0;34m\u001b[0m\u001b[0;34m\u001b[0m\u001b[0;34m\u001b[0m\u001b[0m\n",
      "\u001b[0;32m~/miniconda3/lib/python3.6/site-packages/keras/engine/saving.py\u001b[0m in \u001b[0;36mload_model\u001b[0;34m(filepath, custom_objects, compile)\u001b[0m\n\u001b[1;32m    417\u001b[0m     \u001b[0mf\u001b[0m \u001b[0;34m=\u001b[0m \u001b[0mh5dict\u001b[0m\u001b[0;34m(\u001b[0m\u001b[0mfilepath\u001b[0m\u001b[0;34m,\u001b[0m \u001b[0;34m'r'\u001b[0m\u001b[0;34m)\u001b[0m\u001b[0;34m\u001b[0m\u001b[0;34m\u001b[0m\u001b[0m\n\u001b[1;32m    418\u001b[0m     \u001b[0;32mtry\u001b[0m\u001b[0;34m:\u001b[0m\u001b[0;34m\u001b[0m\u001b[0;34m\u001b[0m\u001b[0m\n\u001b[0;32m--> 419\u001b[0;31m         \u001b[0mmodel\u001b[0m \u001b[0;34m=\u001b[0m \u001b[0m_deserialize_model\u001b[0m\u001b[0;34m(\u001b[0m\u001b[0mf\u001b[0m\u001b[0;34m,\u001b[0m \u001b[0mcustom_objects\u001b[0m\u001b[0;34m,\u001b[0m \u001b[0mcompile\u001b[0m\u001b[0;34m)\u001b[0m\u001b[0;34m\u001b[0m\u001b[0;34m\u001b[0m\u001b[0m\n\u001b[0m\u001b[1;32m    420\u001b[0m     \u001b[0;32mfinally\u001b[0m\u001b[0;34m:\u001b[0m\u001b[0;34m\u001b[0m\u001b[0;34m\u001b[0m\u001b[0m\n\u001b[1;32m    421\u001b[0m         \u001b[0;32mif\u001b[0m \u001b[0mopened_new_file\u001b[0m\u001b[0;34m:\u001b[0m\u001b[0;34m\u001b[0m\u001b[0;34m\u001b[0m\u001b[0m\n",
      "\u001b[0;32m~/miniconda3/lib/python3.6/site-packages/keras/engine/saving.py\u001b[0m in \u001b[0;36m_deserialize_model\u001b[0;34m(f, custom_objects, compile)\u001b[0m\n\u001b[1;32m    285\u001b[0m                              ' elements.')\n\u001b[1;32m    286\u001b[0m         \u001b[0mweight_value_tuples\u001b[0m \u001b[0;34m+=\u001b[0m \u001b[0mzip\u001b[0m\u001b[0;34m(\u001b[0m\u001b[0msymbolic_weights\u001b[0m\u001b[0;34m,\u001b[0m \u001b[0mweight_values\u001b[0m\u001b[0;34m)\u001b[0m\u001b[0;34m\u001b[0m\u001b[0;34m\u001b[0m\u001b[0m\n\u001b[0;32m--> 287\u001b[0;31m     \u001b[0mK\u001b[0m\u001b[0;34m.\u001b[0m\u001b[0mbatch_set_value\u001b[0m\u001b[0;34m(\u001b[0m\u001b[0mweight_value_tuples\u001b[0m\u001b[0;34m)\u001b[0m\u001b[0;34m\u001b[0m\u001b[0;34m\u001b[0m\u001b[0m\n\u001b[0m\u001b[1;32m    288\u001b[0m \u001b[0;34m\u001b[0m\u001b[0m\n\u001b[1;32m    289\u001b[0m     \u001b[0;32mif\u001b[0m \u001b[0mcompile\u001b[0m\u001b[0;34m:\u001b[0m\u001b[0;34m\u001b[0m\u001b[0;34m\u001b[0m\u001b[0m\n",
      "\u001b[0;32m~/miniconda3/lib/python3.6/site-packages/keras/backend/tensorflow_backend.py\u001b[0m in \u001b[0;36mbatch_set_value\u001b[0;34m(tuples)\u001b[0m\n\u001b[1;32m   2468\u001b[0m             \u001b[0massign_ops\u001b[0m\u001b[0;34m.\u001b[0m\u001b[0mappend\u001b[0m\u001b[0;34m(\u001b[0m\u001b[0massign_op\u001b[0m\u001b[0;34m)\u001b[0m\u001b[0;34m\u001b[0m\u001b[0;34m\u001b[0m\u001b[0m\n\u001b[1;32m   2469\u001b[0m             \u001b[0mfeed_dict\u001b[0m\u001b[0;34m[\u001b[0m\u001b[0massign_placeholder\u001b[0m\u001b[0;34m]\u001b[0m \u001b[0;34m=\u001b[0m \u001b[0mvalue\u001b[0m\u001b[0;34m\u001b[0m\u001b[0;34m\u001b[0m\u001b[0m\n\u001b[0;32m-> 2470\u001b[0;31m         \u001b[0mget_session\u001b[0m\u001b[0;34m(\u001b[0m\u001b[0;34m)\u001b[0m\u001b[0;34m.\u001b[0m\u001b[0mrun\u001b[0m\u001b[0;34m(\u001b[0m\u001b[0massign_ops\u001b[0m\u001b[0;34m,\u001b[0m \u001b[0mfeed_dict\u001b[0m\u001b[0;34m=\u001b[0m\u001b[0mfeed_dict\u001b[0m\u001b[0;34m)\u001b[0m\u001b[0;34m\u001b[0m\u001b[0;34m\u001b[0m\u001b[0m\n\u001b[0m\u001b[1;32m   2471\u001b[0m \u001b[0;34m\u001b[0m\u001b[0m\n\u001b[1;32m   2472\u001b[0m \u001b[0;34m\u001b[0m\u001b[0m\n",
      "\u001b[0;32m~/miniconda3/lib/python3.6/site-packages/keras/backend/tensorflow_backend.py\u001b[0m in \u001b[0;36mget_session\u001b[0;34m()\u001b[0m\n\u001b[1;32m    204\u001b[0m                     \u001b[0mv\u001b[0m\u001b[0;34m.\u001b[0m\u001b[0m_keras_initialized\u001b[0m \u001b[0;34m=\u001b[0m \u001b[0;32mTrue\u001b[0m\u001b[0;34m\u001b[0m\u001b[0;34m\u001b[0m\u001b[0m\n\u001b[1;32m    205\u001b[0m                 \u001b[0;32mif\u001b[0m \u001b[0muninitialized_vars\u001b[0m\u001b[0;34m:\u001b[0m\u001b[0;34m\u001b[0m\u001b[0;34m\u001b[0m\u001b[0m\n\u001b[0;32m--> 206\u001b[0;31m                     \u001b[0msession\u001b[0m\u001b[0;34m.\u001b[0m\u001b[0mrun\u001b[0m\u001b[0;34m(\u001b[0m\u001b[0mtf\u001b[0m\u001b[0;34m.\u001b[0m\u001b[0mvariables_initializer\u001b[0m\u001b[0;34m(\u001b[0m\u001b[0muninitialized_vars\u001b[0m\u001b[0;34m)\u001b[0m\u001b[0;34m)\u001b[0m\u001b[0;34m\u001b[0m\u001b[0;34m\u001b[0m\u001b[0m\n\u001b[0m\u001b[1;32m    207\u001b[0m     \u001b[0;31m# hack for list_devices() function.\u001b[0m\u001b[0;34m\u001b[0m\u001b[0;34m\u001b[0m\u001b[0;34m\u001b[0m\u001b[0m\n\u001b[1;32m    208\u001b[0m     \u001b[0;31m# list_devices() function is not available under tensorflow r1.3.\u001b[0m\u001b[0;34m\u001b[0m\u001b[0;34m\u001b[0m\u001b[0;34m\u001b[0m\u001b[0m\n",
      "\u001b[0;32m~/miniconda3/lib/python3.6/site-packages/tensorflow/python/client/session.py\u001b[0m in \u001b[0;36mrun\u001b[0;34m(self, fetches, feed_dict, options, run_metadata)\u001b[0m\n\u001b[1;32m    927\u001b[0m     \u001b[0;32mtry\u001b[0m\u001b[0;34m:\u001b[0m\u001b[0;34m\u001b[0m\u001b[0;34m\u001b[0m\u001b[0m\n\u001b[1;32m    928\u001b[0m       result = self._run(None, fetches, feed_dict, options_ptr,\n\u001b[0;32m--> 929\u001b[0;31m                          run_metadata_ptr)\n\u001b[0m\u001b[1;32m    930\u001b[0m       \u001b[0;32mif\u001b[0m \u001b[0mrun_metadata\u001b[0m\u001b[0;34m:\u001b[0m\u001b[0;34m\u001b[0m\u001b[0;34m\u001b[0m\u001b[0m\n\u001b[1;32m    931\u001b[0m         \u001b[0mproto_data\u001b[0m \u001b[0;34m=\u001b[0m \u001b[0mtf_session\u001b[0m\u001b[0;34m.\u001b[0m\u001b[0mTF_GetBuffer\u001b[0m\u001b[0;34m(\u001b[0m\u001b[0mrun_metadata_ptr\u001b[0m\u001b[0;34m)\u001b[0m\u001b[0;34m\u001b[0m\u001b[0;34m\u001b[0m\u001b[0m\n",
      "\u001b[0;32m~/miniconda3/lib/python3.6/site-packages/tensorflow/python/client/session.py\u001b[0m in \u001b[0;36m_run\u001b[0;34m(self, handle, fetches, feed_dict, options, run_metadata)\u001b[0m\n\u001b[1;32m   1150\u001b[0m     \u001b[0;32mif\u001b[0m \u001b[0mfinal_fetches\u001b[0m \u001b[0;32mor\u001b[0m \u001b[0mfinal_targets\u001b[0m \u001b[0;32mor\u001b[0m \u001b[0;34m(\u001b[0m\u001b[0mhandle\u001b[0m \u001b[0;32mand\u001b[0m \u001b[0mfeed_dict_tensor\u001b[0m\u001b[0;34m)\u001b[0m\u001b[0;34m:\u001b[0m\u001b[0;34m\u001b[0m\u001b[0;34m\u001b[0m\u001b[0m\n\u001b[1;32m   1151\u001b[0m       results = self._do_run(handle, final_targets, final_fetches,\n\u001b[0;32m-> 1152\u001b[0;31m                              feed_dict_tensor, options, run_metadata)\n\u001b[0m\u001b[1;32m   1153\u001b[0m     \u001b[0;32melse\u001b[0m\u001b[0;34m:\u001b[0m\u001b[0;34m\u001b[0m\u001b[0;34m\u001b[0m\u001b[0m\n\u001b[1;32m   1154\u001b[0m       \u001b[0mresults\u001b[0m \u001b[0;34m=\u001b[0m \u001b[0;34m[\u001b[0m\u001b[0;34m]\u001b[0m\u001b[0;34m\u001b[0m\u001b[0;34m\u001b[0m\u001b[0m\n",
      "\u001b[0;32m~/miniconda3/lib/python3.6/site-packages/tensorflow/python/client/session.py\u001b[0m in \u001b[0;36m_do_run\u001b[0;34m(self, handle, target_list, fetch_list, feed_dict, options, run_metadata)\u001b[0m\n\u001b[1;32m   1326\u001b[0m     \u001b[0;32mif\u001b[0m \u001b[0mhandle\u001b[0m \u001b[0;32mis\u001b[0m \u001b[0;32mNone\u001b[0m\u001b[0;34m:\u001b[0m\u001b[0;34m\u001b[0m\u001b[0;34m\u001b[0m\u001b[0m\n\u001b[1;32m   1327\u001b[0m       return self._do_call(_run_fn, feeds, fetches, targets, options,\n\u001b[0;32m-> 1328\u001b[0;31m                            run_metadata)\n\u001b[0m\u001b[1;32m   1329\u001b[0m     \u001b[0;32melse\u001b[0m\u001b[0;34m:\u001b[0m\u001b[0;34m\u001b[0m\u001b[0;34m\u001b[0m\u001b[0m\n\u001b[1;32m   1330\u001b[0m       \u001b[0;32mreturn\u001b[0m \u001b[0mself\u001b[0m\u001b[0;34m.\u001b[0m\u001b[0m_do_call\u001b[0m\u001b[0;34m(\u001b[0m\u001b[0m_prun_fn\u001b[0m\u001b[0;34m,\u001b[0m \u001b[0mhandle\u001b[0m\u001b[0;34m,\u001b[0m \u001b[0mfeeds\u001b[0m\u001b[0;34m,\u001b[0m \u001b[0mfetches\u001b[0m\u001b[0;34m)\u001b[0m\u001b[0;34m\u001b[0m\u001b[0;34m\u001b[0m\u001b[0m\n",
      "\u001b[0;32m~/miniconda3/lib/python3.6/site-packages/tensorflow/python/client/session.py\u001b[0m in \u001b[0;36m_do_call\u001b[0;34m(self, fn, *args)\u001b[0m\n\u001b[1;32m   1346\u001b[0m           \u001b[0;32mpass\u001b[0m\u001b[0;34m\u001b[0m\u001b[0;34m\u001b[0m\u001b[0m\n\u001b[1;32m   1347\u001b[0m       \u001b[0mmessage\u001b[0m \u001b[0;34m=\u001b[0m \u001b[0merror_interpolation\u001b[0m\u001b[0;34m.\u001b[0m\u001b[0minterpolate\u001b[0m\u001b[0;34m(\u001b[0m\u001b[0mmessage\u001b[0m\u001b[0;34m,\u001b[0m \u001b[0mself\u001b[0m\u001b[0;34m.\u001b[0m\u001b[0m_graph\u001b[0m\u001b[0;34m)\u001b[0m\u001b[0;34m\u001b[0m\u001b[0;34m\u001b[0m\u001b[0m\n\u001b[0;32m-> 1348\u001b[0;31m       \u001b[0;32mraise\u001b[0m \u001b[0mtype\u001b[0m\u001b[0;34m(\u001b[0m\u001b[0me\u001b[0m\u001b[0;34m)\u001b[0m\u001b[0;34m(\u001b[0m\u001b[0mnode_def\u001b[0m\u001b[0;34m,\u001b[0m \u001b[0mop\u001b[0m\u001b[0;34m,\u001b[0m \u001b[0mmessage\u001b[0m\u001b[0;34m)\u001b[0m\u001b[0;34m\u001b[0m\u001b[0;34m\u001b[0m\u001b[0m\n\u001b[0m\u001b[1;32m   1349\u001b[0m \u001b[0;34m\u001b[0m\u001b[0m\n\u001b[1;32m   1350\u001b[0m   \u001b[0;32mdef\u001b[0m \u001b[0m_extend_graph\u001b[0m\u001b[0;34m(\u001b[0m\u001b[0mself\u001b[0m\u001b[0;34m)\u001b[0m\u001b[0;34m:\u001b[0m\u001b[0;34m\u001b[0m\u001b[0;34m\u001b[0m\u001b[0m\n",
      "\u001b[0;31mResourceExhaustedError\u001b[0m: OOM when allocating tensor with shape[200] and type float on /job:localhost/replica:0/task:0/device:GPU:0 by allocator GPU_0_bfc\n\t [[node batch_normalization_2/beta/Assign (defined at /users/annashch/miniconda3/lib/python3.6/site-packages/keras/backend/tensorflow_backend.py:402)  = Assign[T=DT_FLOAT, _grappler_relax_allocator_constraints=true, use_locking=true, validate_shape=true, _device=\"/job:localhost/replica:0/task:0/device:GPU:0\"](batch_normalization_2/beta, batch_normalization_2/Const_1)]]\nHint: If you want to see a list of allocated tensors when OOM happens, add report_tensor_allocations_upon_oom to RunOptions for current allocation info.\n\n\nCaused by op 'batch_normalization_2/beta/Assign', defined at:\n  File \"/users/annashch/miniconda3/lib/python3.6/runpy.py\", line 193, in _run_module_as_main\n    \"__main__\", mod_spec)\n  File \"/users/annashch/miniconda3/lib/python3.6/runpy.py\", line 85, in _run_code\n    exec(code, run_globals)\n  File \"/users/annashch/miniconda3/lib/python3.6/site-packages/ipykernel_launcher.py\", line 16, in <module>\n    app.launch_new_instance()\n  File \"/users/annashch/miniconda3/lib/python3.6/site-packages/traitlets/config/application.py\", line 658, in launch_instance\n    app.start()\n  File \"/users/annashch/miniconda3/lib/python3.6/site-packages/ipykernel/kernelapp.py\", line 486, in start\n    self.io_loop.start()\n  File \"/users/annashch/miniconda3/lib/python3.6/site-packages/tornado/platform/asyncio.py\", line 112, in start\n    self.asyncio_loop.run_forever()\n  File \"/users/annashch/miniconda3/lib/python3.6/asyncio/base_events.py\", line 438, in run_forever\n    self._run_once()\n  File \"/users/annashch/miniconda3/lib/python3.6/asyncio/base_events.py\", line 1451, in _run_once\n    handle._run()\n  File \"/users/annashch/miniconda3/lib/python3.6/asyncio/events.py\", line 145, in _run\n    self._callback(*self._args)\n  File \"/users/annashch/miniconda3/lib/python3.6/site-packages/tornado/ioloop.py\", line 760, in _run_callback\n    ret = callback()\n  File \"/users/annashch/miniconda3/lib/python3.6/site-packages/tornado/stack_context.py\", line 276, in null_wrapper\n    return fn(*args, **kwargs)\n  File \"/users/annashch/miniconda3/lib/python3.6/site-packages/zmq/eventloop/zmqstream.py\", line 536, in <lambda>\n    self.io_loop.add_callback(lambda : self._handle_events(self.socket, 0))\n  File \"/users/annashch/miniconda3/lib/python3.6/site-packages/zmq/eventloop/zmqstream.py\", line 450, in _handle_events\n    self._handle_recv()\n  File \"/users/annashch/miniconda3/lib/python3.6/site-packages/zmq/eventloop/zmqstream.py\", line 480, in _handle_recv\n    self._run_callback(callback, msg)\n  File \"/users/annashch/miniconda3/lib/python3.6/site-packages/zmq/eventloop/zmqstream.py\", line 432, in _run_callback\n    callback(*args, **kwargs)\n  File \"/users/annashch/miniconda3/lib/python3.6/site-packages/tornado/stack_context.py\", line 276, in null_wrapper\n    return fn(*args, **kwargs)\n  File \"/users/annashch/miniconda3/lib/python3.6/site-packages/ipykernel/kernelbase.py\", line 283, in dispatcher\n    return self.dispatch_shell(stream, msg)\n  File \"/users/annashch/miniconda3/lib/python3.6/site-packages/ipykernel/kernelbase.py\", line 233, in dispatch_shell\n    handler(stream, idents, msg)\n  File \"/users/annashch/miniconda3/lib/python3.6/site-packages/ipykernel/kernelbase.py\", line 399, in execute_request\n    user_expressions, allow_stdin)\n  File \"/users/annashch/miniconda3/lib/python3.6/site-packages/ipykernel/ipkernel.py\", line 208, in do_execute\n    res = shell.run_cell(code, store_history=store_history, silent=silent)\n  File \"/users/annashch/miniconda3/lib/python3.6/site-packages/ipykernel/zmqshell.py\", line 537, in run_cell\n    return super(ZMQInteractiveShell, self).run_cell(*args, **kwargs)\n  File \"/users/annashch/miniconda3/lib/python3.6/site-packages/IPython/core/interactiveshell.py\", line 2662, in run_cell\n    raw_cell, store_history, silent, shell_futures)\n  File \"/users/annashch/miniconda3/lib/python3.6/site-packages/IPython/core/interactiveshell.py\", line 2785, in _run_cell\n    interactivity=interactivity, compiler=compiler, result=result)\n  File \"/users/annashch/miniconda3/lib/python3.6/site-packages/IPython/core/interactiveshell.py\", line 2903, in run_ast_nodes\n    if self.run_code(code, result):\n  File \"/users/annashch/miniconda3/lib/python3.6/site-packages/IPython/core/interactiveshell.py\", line 2963, in run_code\n    exec(code_obj, self.user_global_ns, self.user_ns)\n  File \"<ipython-input-9-1b1a64a65d6b>\", line 19, in <module>\n    model,preact_model = load_keras_model(fold,model_prefix,target_layer_idx)\n  File \"<ipython-input-3-604243db0e72>\", line 11, in load_keras_model\n    model=load_model(\".\".join([model_prefix,str(fold)]),custom_objects=custom_objects)\n  File \"/users/annashch/miniconda3/lib/python3.6/site-packages/keras/engine/saving.py\", line 419, in load_model\n    model = _deserialize_model(f, custom_objects, compile)\n  File \"/users/annashch/miniconda3/lib/python3.6/site-packages/keras/engine/saving.py\", line 225, in _deserialize_model\n    model = model_from_config(model_config, custom_objects=custom_objects)\n  File \"/users/annashch/miniconda3/lib/python3.6/site-packages/keras/engine/saving.py\", line 458, in model_from_config\n    return deserialize(config, custom_objects=custom_objects)\n  File \"/users/annashch/miniconda3/lib/python3.6/site-packages/keras/layers/__init__.py\", line 55, in deserialize\n    printable_module_name='layer')\n  File \"/users/annashch/miniconda3/lib/python3.6/site-packages/keras/utils/generic_utils.py\", line 145, in deserialize_keras_object\n    list(custom_objects.items())))\n  File \"/users/annashch/miniconda3/lib/python3.6/site-packages/keras/engine/sequential.py\", line 301, in from_config\n    model.add(layer)\n  File \"/users/annashch/miniconda3/lib/python3.6/site-packages/keras/engine/sequential.py\", line 181, in add\n    output_tensor = layer(self.outputs[0])\n  File \"/users/annashch/miniconda3/lib/python3.6/site-packages/keras/engine/base_layer.py\", line 431, in __call__\n    self.build(unpack_singleton(input_shapes))\n  File \"/users/annashch/miniconda3/lib/python3.6/site-packages/keras/layers/normalization.py\", line 117, in build\n    constraint=self.beta_constraint)\n  File \"/users/annashch/miniconda3/lib/python3.6/site-packages/keras/legacy/interfaces.py\", line 91, in wrapper\n    return func(*args, **kwargs)\n  File \"/users/annashch/miniconda3/lib/python3.6/site-packages/keras/engine/base_layer.py\", line 252, in add_weight\n    constraint=constraint)\n  File \"/users/annashch/miniconda3/lib/python3.6/site-packages/keras/backend/tensorflow_backend.py\", line 402, in variable\n    v = tf.Variable(value, dtype=tf.as_dtype(dtype), name=name)\n  File \"/users/annashch/miniconda3/lib/python3.6/site-packages/tensorflow/python/ops/variables.py\", line 183, in __call__\n    return cls._variable_v1_call(*args, **kwargs)\n  File \"/users/annashch/miniconda3/lib/python3.6/site-packages/tensorflow/python/ops/variables.py\", line 146, in _variable_v1_call\n    aggregation=aggregation)\n  File \"/users/annashch/miniconda3/lib/python3.6/site-packages/tensorflow/python/ops/variables.py\", line 125, in <lambda>\n    previous_getter = lambda **kwargs: default_variable_creator(None, **kwargs)\n  File \"/users/annashch/miniconda3/lib/python3.6/site-packages/tensorflow/python/ops/variable_scope.py\", line 2444, in default_variable_creator\n    expected_shape=expected_shape, import_scope=import_scope)\n  File \"/users/annashch/miniconda3/lib/python3.6/site-packages/tensorflow/python/ops/variables.py\", line 187, in __call__\n    return super(VariableMetaclass, cls).__call__(*args, **kwargs)\n  File \"/users/annashch/miniconda3/lib/python3.6/site-packages/tensorflow/python/ops/variables.py\", line 1329, in __init__\n    constraint=constraint)\n  File \"/users/annashch/miniconda3/lib/python3.6/site-packages/tensorflow/python/ops/variables.py\", line 1481, in _init_from_args\n    validate_shape=validate_shape).op\n  File \"/users/annashch/miniconda3/lib/python3.6/site-packages/tensorflow/python/ops/state_ops.py\", line 221, in assign\n    validate_shape=validate_shape)\n  File \"/users/annashch/miniconda3/lib/python3.6/site-packages/tensorflow/python/ops/gen_state_ops.py\", line 61, in assign\n    use_locking=use_locking, name=name)\n  File \"/users/annashch/miniconda3/lib/python3.6/site-packages/tensorflow/python/framework/op_def_library.py\", line 787, in _apply_op_helper\n    op_def=op_def)\n  File \"/users/annashch/miniconda3/lib/python3.6/site-packages/tensorflow/python/util/deprecation.py\", line 488, in new_func\n    return func(*args, **kwargs)\n  File \"/users/annashch/miniconda3/lib/python3.6/site-packages/tensorflow/python/framework/ops.py\", line 3274, in create_op\n    op_def=op_def)\n  File \"/users/annashch/miniconda3/lib/python3.6/site-packages/tensorflow/python/framework/ops.py\", line 1770, in __init__\n    self._traceback = tf_stack.extract_stack()\n\nResourceExhaustedError (see above for traceback): OOM when allocating tensor with shape[200] and type float on /job:localhost/replica:0/task:0/device:GPU:0 by allocator GPU_0_bfc\n\t [[node batch_normalization_2/beta/Assign (defined at /users/annashch/miniconda3/lib/python3.6/site-packages/keras/backend/tensorflow_backend.py:402)  = Assign[T=DT_FLOAT, _grappler_relax_allocator_constraints=true, use_locking=true, validate_shape=true, _device=\"/job:localhost/replica:0/task:0/device:GPU:0\"](batch_normalization_2/beta, batch_normalization_2/Const_1)]]\nHint: If you want to see a list of allocated tensors when OOM happens, add report_tensor_allocations_upon_oom to RunOptions for current allocation info.\n\n"
     ]
    }
   ],
   "source": [
    "#goal of first pass is to get the ref logits & SNP labels for calibration \n",
    "labels_all=None \n",
    "ref_preacts_all=None\n",
    "\n",
    "for fold in range(n_folds): \n",
    "    print(fold)\n",
    "    try:\n",
    "        snps, snp_ref_generator,snp_alt_generator=get_snp_generators(fold,snp_prefix,all_snps_basename,ref_fasta)\n",
    "        print(\"Got snp ref and alt generators\")\n",
    "    except:\n",
    "        print(\"fold:\"+str(fold)+\" appears to be empty, skipping\")\n",
    "        continue \n",
    "    \n",
    "    labels=snps.iloc[:,6::]\n",
    "    if labels_all is None: \n",
    "        labels_all=labels\n",
    "    else: \n",
    "        labels_all=np.concatenate((labels_all,labels),axis=0)\n",
    "    model,preact_model = load_keras_model(fold,model_prefix,target_layer_idx)\n",
    "    ref_preacts=preact_model.predict_generator(snp_ref_generator,\n",
    "                max_queue_size=5000, \n",
    "                workers=0, \n",
    "                use_multiprocessing=False, \n",
    "                verbose=1)\n",
    "    \n",
    "    print(\"Got ref preacts\")\n",
    "    if ref_preacts_all is None: \n",
    "        ref_preacts_all=ref_preacts \n",
    "    else: \n",
    "        ref_preacts_all=np.concatenate((ref_preacts_all,ref_preacts),axis=0)\n",
    "\n",
    "print(\"getting calibration function\")\n",
    "print(labels_all.shape)\n",
    "print(ref_preacts_all.shape)\n",
    "\n",
    "#need to generate separate calibration function for each task \n",
    "num_tasks=ref_preacts.shape[1] \n",
    "calibration_functions=[] \n",
    "for task_index in range(num_tasks):\n",
    "    calibration_functions.append(PlattScaling()(\n",
    "        valid_preacts=ref_preacts_all[:,task_index],\n",
    "        valid_labels=labels_all.iloc[:,task_index].astype(bool)))"
   ]
  },
  {
   "cell_type": "code",
   "execution_count": null,
   "metadata": {},
   "outputs": [],
   "source": [
    "#Create the output file \n",
    "outf=open(outf_name,'w')\n",
    "#Write the header \n",
    "outf.write(\"\\t\".join(['Chrom','StartPos','EndPos','Ref','Alt','Rsid']))\n",
    "outf.write('\\t'+'\\t'.join(['Label.'+task for task in tasks]))\n",
    "for field in ['RefLogit','RefCalibrated','AltLogit','AltCalibrated']: \n",
    "    for task in tasks: \n",
    "        outf.write('\\t'+field+'.'+task)\n",
    "outf.write('\\n')"
   ]
  },
  {
   "cell_type": "code",
   "execution_count": null,
   "metadata": {},
   "outputs": [],
   "source": [
    "\n",
    "for fold in range(n_folds): \n",
    "    print(fold)\n",
    "    try:\n",
    "        snps, snp_ref_generator,snp_alt_generator=get_snp_generators(fold,snp_prefix,all_snps_basename,ref_fasta)\n",
    "        print(\"Got snp ref and alt generators\")\n",
    "    except:\n",
    "        print(\"fold:\"+str(fold)+\" appears to be empty, skipping\")\n",
    "        continue \n",
    "    labels=snps.iloc[:,6::]\n",
    "    \n",
    "    model,preact_model = load_keras_model(fold,model_prefix,target_layer_idx)\n",
    "    ref_preacts=preact_model.predict_generator(snp_ref_generator,\n",
    "                max_queue_size=5000, \n",
    "                workers=0, \n",
    "                use_multiprocessing=False, \n",
    "                verbose=1)\n",
    "    print(\"Got ref preacts\")\n",
    "    alt_preacts=preact_model.predict_generator(snp_alt_generator,\n",
    "                max_queue_size=5000, \n",
    "                workers=0, \n",
    "                use_multiprocessing=False, \n",
    "                verbose=1)    \n",
    "    print(\"Got alt preacts\")    \n",
    "    ref_calibrated_predictions=get_calibrated_predictions(ref_preacts,\n",
    "                                                          calibration_functions)\n",
    "    print(\"Got calibrated reference predictions\")\n",
    "    alt_calibrated_predictions=get_calibrated_predictions(alt_preacts,\n",
    "                                                          calibration_functions)\n",
    "    print(\"Got calibrated alternate predictions\")\n",
    "    \n",
    "    num_snps=ref_calibrated_predictions.shape[0]\n",
    "    for snp_index in range(num_snps): \n",
    "        outf.write('\\t'.join([str(j) for j in snps.iloc[snp_index]])+\n",
    "                   '\\t'+\n",
    "                   '\\t'.join([str(j) for j in ref_preacts[snp_index]])+\n",
    "                   '\\t'+\n",
    "                   '\\t'.join([str(j) for j in ref_calibrated_predictions[snp_index]])+\n",
    "                   '\\t'+\n",
    "                   '\\t'.join([str(j) for j in alt_preacts[snp_index]])+\n",
    "                   '\\t'+\n",
    "                   '\\t'.join([str(j) for j in alt_calibrated_predictions[snp_index]])+\n",
    "                   '\\n')\n",
    "outf.close() "
   ]
  },
  {
   "cell_type": "markdown",
   "metadata": {},
   "source": [
    "## ISM Plots "
   ]
  },
  {
   "cell_type": "code",
   "execution_count": null,
   "metadata": {},
   "outputs": [],
   "source": [
    "import pandas as pd \n",
    "snp_predictions=pd.read_csv(outf_name,header=0,sep='\\t')\n",
    "snp_predictions['Label.DNASEC']=snp_predictions['Label.DNASEC'].astype('category')\n",
    "snp_predictions['Label.DNASEV']=snp_predictions['Label.DNASEV'].astype('category')\n",
    "snp_predictions['Label.SW480']=snp_predictions['Label.SW480'].astype('category')\n",
    "snp_predictions['Label.HCT116']=snp_predictions['Label.HCT116'].astype('category')\n",
    "snp_predictions['Label.COLO205']=snp_predictions['Label.COLO205'].astype('category')\n"
   ]
  },
  {
   "cell_type": "code",
   "execution_count": null,
   "metadata": {},
   "outputs": [],
   "source": [
    "import plotnine\n",
    "from plotnine import * "
   ]
  },
  {
   "cell_type": "code",
   "execution_count": null,
   "metadata": {},
   "outputs": [],
   "source": [
    "snp_predictions['Target']=snp_predictions['Rsid']=='14_51359099_51359100_C_G'"
   ]
  },
  {
   "cell_type": "markdown",
   "metadata": {},
   "source": [
    "### DNAse C "
   ]
  },
  {
   "cell_type": "code",
   "execution_count": null,
   "metadata": {
    "scrolled": true
   },
   "outputs": [],
   "source": [
    "plotnine.options.figure_size = (10,10)\n",
    "(ggplot(snp_predictions,\n",
    "        aes(x=\"RefLogit.DNASEC\",y=\"AltLogit.DNASEC\",label='Rsid',color='Target'))+\n",
    "geom_point(alpha=1)+\n",
    "theme_bw(20)+\n",
    "xlab(\"Reference Allele Logit\")+\n",
    "ylab(\"Alternate Allele Logit\")+\n",
    "ggtitle(\"Healthy Controls\"))\n"
   ]
  },
  {
   "cell_type": "code",
   "execution_count": null,
   "metadata": {},
   "outputs": [],
   "source": [
    "plotnine.options.figure_size = (10,10)\n",
    "(ggplot(snp_predictions,\n",
    "        aes(x=\"RefCalibrated.DNASEC\",y=\"AltCalibrated.DNASEC\",label='Rsid',color='Target'))+\n",
    "geom_point(alpha=1)+\n",
    "theme_bw(20)+\n",
    "xlab(\"Reference Allele Calibrated Predictions\")+\n",
    "ylab(\"Alternate Allele Calibrated Predictions\")+\n",
    "ggtitle(\"Healthy Controls\"))\n"
   ]
  },
  {
   "cell_type": "markdown",
   "metadata": {},
   "source": [
    "## DNAse V "
   ]
  },
  {
   "cell_type": "code",
   "execution_count": null,
   "metadata": {},
   "outputs": [],
   "source": [
    "plotnine.options.figure_size = (10,10)\n",
    "(ggplot(snp_predictions,\n",
    "        aes(x=\"RefLogit.DNASEV\",y=\"AltLogit.DNASEV\",label='Rsid',color='Target'))+\n",
    "geom_point(alpha=1)+\n",
    "theme_bw(20)+\n",
    "xlab(\"Reference Allele Logit\")+\n",
    "ylab(\"Alternate Allele Logit\")+\n",
    "ggtitle(\"Tumor Samples\"))\n"
   ]
  },
  {
   "cell_type": "code",
   "execution_count": null,
   "metadata": {},
   "outputs": [],
   "source": [
    "plotnine.options.figure_size = (10,10)\n",
    "(ggplot(snp_predictions,\n",
    "        aes(x=\"RefCalibrated.DNASEV\",y=\"AltCalibrated.DNASEV\",label='Rsid',color='Target'))+\n",
    "geom_point(alpha=1)+\n",
    "theme_bw(20)+\n",
    "xlab(\"Reference Allele Calibrated Predictions\")+\n",
    "ylab(\"Alternate Allele Calibrated Predictions\")+\n",
    "ggtitle(\"Tumor Samples\"))\n"
   ]
  },
  {
   "cell_type": "markdown",
   "metadata": {},
   "source": [
    "## SW480"
   ]
  },
  {
   "cell_type": "code",
   "execution_count": null,
   "metadata": {},
   "outputs": [],
   "source": [
    "plotnine.options.figure_size = (10,10)\n",
    "(ggplot(snp_predictions,\n",
    "        aes(x=\"RefLogit.SW480\",y=\"AltLogit.SW480\",label='Rsid',color='Target'))+\n",
    "geom_point(alpha=1)+\n",
    "theme_bw(20)+\n",
    "xlab(\"Reference Allele Logit\")+\n",
    "ylab(\"Alternate Allele Logit\")+\n",
    "ggtitle(\"SW480\"))"
   ]
  },
  {
   "cell_type": "code",
   "execution_count": null,
   "metadata": {},
   "outputs": [],
   "source": [
    "plotnine.options.figure_size = (10,10)\n",
    "(ggplot(snp_predictions,\n",
    "        aes(x=\"RefCalibrated.SW480\",y=\"AltCalibrated.SW480\",label='Rsid',color='Target'))+\n",
    "geom_point(alpha=1)+\n",
    "theme_bw(20)+\n",
    "xlab(\"Reference Allele Calibrated Predictions\")+\n",
    "ylab(\"Alternate Allele Calibrated Predictions\")+\n",
    "ggtitle(\"SW480\"))\n"
   ]
  },
  {
   "cell_type": "markdown",
   "metadata": {},
   "source": [
    "## HCT116"
   ]
  },
  {
   "cell_type": "code",
   "execution_count": null,
   "metadata": {},
   "outputs": [],
   "source": [
    "plotnine.options.figure_size = (10,10)\n",
    "(ggplot(snp_predictions,\n",
    "        aes(x=\"RefLogit.HCT116\",y=\"AltLogit.HCT116\",label='Rsid',color='Target'))+\n",
    "geom_point(alpha=1)+\n",
    "theme_bw(20)+\n",
    "xlab(\"Reference Allele Logit\")+\n",
    "ylab(\"Alternate Allele Logit\")+\n",
    "ggtitle(\"HCT116\"))"
   ]
  },
  {
   "cell_type": "code",
   "execution_count": null,
   "metadata": {},
   "outputs": [],
   "source": [
    "plotnine.options.figure_size = (10,10)\n",
    "(ggplot(snp_predictions,\n",
    "        aes(x=\"RefCalibrated.HCT116\",y=\"AltCalibrated.HCT116\",label='Rsid',color='Target'))+\n",
    "geom_point(alpha=1)+\n",
    "theme_bw(20)+\n",
    "xlab(\"Reference Allele Calibrated Predictions\")+\n",
    "ylab(\"Alternate Allele Calibrated Predictions\")+\n",
    "ggtitle(\"HCT116\"))\n"
   ]
  },
  {
   "cell_type": "markdown",
   "metadata": {},
   "source": [
    "## COLO205"
   ]
  },
  {
   "cell_type": "code",
   "execution_count": null,
   "metadata": {},
   "outputs": [],
   "source": [
    "plotnine.options.figure_size = (10,10)\n",
    "(ggplot(snp_predictions,\n",
    "        aes(x=\"RefLogit.COLO205\",y=\"AltLogit.COLO205\",label='Rsid',color='Target'))+\n",
    "geom_point(alpha=1)+\n",
    "theme_bw(20)+\n",
    "xlab(\"Reference Allele Logit\")+\n",
    "ylab(\"Alternate Allele Logit\")+\n",
    "ggtitle(\"COLO205\"))\n"
   ]
  },
  {
   "cell_type": "code",
   "execution_count": null,
   "metadata": {},
   "outputs": [],
   "source": [
    "plotnine.options.figure_size = (10,10)\n",
    "(ggplot(snp_predictions,\n",
    "        aes(x=\"RefCalibrated.COLO205\",y=\"AltCalibrated.COLO205\",label='Rsid',color='Target'))+\n",
    "geom_point(alpha=1)+\n",
    "theme_bw(20)+\n",
    "xlab(\"Reference Allele Calibrated Predictions\")+\n",
    "ylab(\"Alternate Allele Calibrated Predictions\")+\n",
    "ggtitle(\"COLO205\"))\n"
   ]
  },
  {
   "cell_type": "code",
   "execution_count": null,
   "metadata": {},
   "outputs": [],
   "source": []
  }
 ],
 "metadata": {
  "kernelspec": {
   "display_name": "Python 3",
   "language": "python",
   "name": "python3"
  },
  "language_info": {
   "codemirror_mode": {
    "name": "ipython",
    "version": 3
   },
   "file_extension": ".py",
   "mimetype": "text/x-python",
   "name": "python",
   "nbconvert_exporter": "python",
   "pygments_lexer": "ipython3",
   "version": "3.6.8"
  }
 },
 "nbformat": 4,
 "nbformat_minor": 2
}
