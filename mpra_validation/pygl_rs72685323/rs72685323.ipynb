{
 "cells": [
  {
   "cell_type": "markdown",
   "metadata": {},
   "source": [
    "rs72685323 is on chrom 14:51359100 C>G, we use the cross validation fold with chrom 14 in test set (split 6)"
   ]
  },
  {
   "cell_type": "code",
   "execution_count": 1,
   "metadata": {},
   "outputs": [],
   "source": [
    "snp='rs72685323'\n",
    "split=6\n",
    "snp_chrom=\"chr14\"\n",
    "snp_pos=51359100"
   ]
  },
  {
   "cell_type": "code",
   "execution_count": 2,
   "metadata": {},
   "outputs": [],
   "source": [
    "#load dragonn tutorial utilities \n",
    "%reload_ext autoreload\n",
    "%autoreload 2\n",
    "%matplotlib inline\n",
    "import warnings\n",
    "warnings.filterwarnings('ignore')\n"
   ]
  },
  {
   "cell_type": "code",
   "execution_count": 3,
   "metadata": {},
   "outputs": [
    {
     "name": "stderr",
     "output_type": "stream",
     "text": [
      "Using TensorFlow backend.\n"
     ]
    }
   ],
   "source": [
    "from keras.models import load_model"
   ]
  },
  {
   "cell_type": "code",
   "execution_count": 4,
   "metadata": {},
   "outputs": [],
   "source": [
    "import pysam\n",
    "# SNP is at position 100 in the 200 bp MPRA construct \n",
    "def get_inputs(chrom,snp_pos,left_flank=99,right_flank=100,ref=\"/mnt/data/annotations/by_release/hg19.GRCh37/hg19.genome.fa\"):\n",
    "    ref=pysam.FastaFile(ref)\n",
    "    ltrdict = {'a':[1,0,0,0],'c':[0,1,0,0],'g':[0,0,1,0],'t':[0,0,0,1], 'n':[0,0,0,0],'A':[1,0,0,0],'C':[0,1,0,0],'G':[0,0,1,0],'T':[0,0,0,1],'N':[0,0,0,0]}\n",
    "    snp_pos=snp_pos-1 #convert to 0-indexing\n",
    "    left_flank=ref.fetch(chrom,snp_pos-left_flank,snp_pos)\n",
    "    print(len(left_flank))\n",
    "    right_flank=ref.fetch(chrom,snp_pos+1,snp_pos+right_flank+1)\n",
    "    print(len(right_flank))\n",
    "    encoded=dict() \n",
    "    seqs=dict()\n",
    "    for base in ['A','C','G','T']: \n",
    "        curseq=left_flank+base+right_flank\n",
    "        seqs[base]=curseq\n",
    "        encoded[base]=np.expand_dims(np.expand_dims(np.array([ltrdict.get(x,[0,0,0,0]) for x in curseq]),0),0)\n",
    "    return encoded,seqs\n"
   ]
  },
  {
   "cell_type": "code",
   "execution_count": 5,
   "metadata": {},
   "outputs": [],
   "source": [
    "##load the model \n",
    "from concise.metrics import tpr, tnr, fpr, fnr, precision, f1\n",
    "from kerasAC.metrics import recall, specificity, fpr, fnr, precision, f1\n",
    "from kerasAC.custom_losses import get_ambig_binary_crossentropy\n",
    "from kerasAC.generators import * \n",
    "from kerasAC.predict import get_model_layer_functor, get_layer_outputs\n",
    "custom_objects={\"sensitivity\":tpr,\n",
    "                \"specificity\":tnr,\n",
    "                \"fpr\":fpr,\n",
    "                \"fnr\":fnr,\n",
    "                \"precision\":precision,\n",
    "                \"f1\":f1,\n",
    "               \"ambig_binary_crossentropy\":get_ambig_binary_crossentropy()}\n",
    "\n",
    "model=load_model(\"/srv/scratch/annashch/deeplearning/gecco/crossvalid/v4/gecco.classification.SummitWithin200bpCenter.\"+str(split),custom_objects=custom_objects)"
   ]
  },
  {
   "cell_type": "code",
   "execution_count": 6,
   "metadata": {},
   "outputs": [],
   "source": [
    "#get deepLIFT function \n",
    "from deeplift.conversion import kerasapi_conversion as kc\n",
    "import keras.backend as K \n",
    "deeplift_model = kc.convert_model_from_saved_files(\"/srv/scratch/annashch/deeplearning/gecco/crossvalid/v4/gecco.classification.SummitWithin200bpCenter.\"+str(split),verbose=False)"
   ]
  },
  {
   "cell_type": "code",
   "execution_count": 7,
   "metadata": {},
   "outputs": [],
   "source": [
    "#get the deeplift score with respect to the logit                                                                                                                    \n",
    "score_func = deeplift_model.get_target_contribs_func(\n",
    "find_scores_layer_idx=0,\n",
    "    target_layer_idx=-2)\n"
   ]
  },
  {
   "cell_type": "code",
   "execution_count": 8,
   "metadata": {},
   "outputs": [],
   "source": [
    "import numpy as np \n",
    "input_references = [np.array([0.3, 0.2, 0.2, 0.3])[None, None, None, :]]"
   ]
  },
  {
   "cell_type": "markdown",
   "metadata": {},
   "source": [
    " We have the fasta sequence from \"CC_pilot-MPRA.fa\"\n",
    "\n",
    ">rs72685323_A_wC\n",
    "TGTGTTTGATTTATTGAGGAAATGTTCTTCAGGAAAAAATCCAAAAGGGAATGAGGGTAGTAGCACTGGAAAGGGGGAAGAGCAGAACAAGGACGTGACCTCAGGCAAAGTCTAGCTTTGGCCTGATTCAGGCGGGGTGCTAAGCTTTGAAGCAAAGGGCCTGTTGTTTCTGCCCTCCGCTAAGGTAGGCAGTGGAGGAG\n",
    "\n"
   ]
  },
  {
   "cell_type": "code",
   "execution_count": 9,
   "metadata": {},
   "outputs": [],
   "source": [
    "mpra_seq=\"TGTGTTTGATTTATTGAGGAAATGTTCTTCAGGAAAAAATCCAAAAGGGAATGAGGGTAGTAGCACTGGAAAGGGGGAAGAGCAGAACAAGGACGTGACCTCAGGCAAAGTCTAGCTTTGGCCTGATTCAGGCGGGGTGCTAAGCTTTGAAGCAAAGGGCCTGTTGTTTCTGCCCTCCGCTAAGGTAGGCAGTGGAGGAG\""
   ]
  },
  {
   "cell_type": "code",
   "execution_count": 10,
   "metadata": {},
   "outputs": [
    {
     "data": {
      "text/plain": [
       "200"
      ]
     },
     "execution_count": 10,
     "metadata": {},
     "output_type": "execute_result"
    }
   ],
   "source": [
    "len(mpra_seq)"
   ]
  },
  {
   "cell_type": "code",
   "execution_count": 11,
   "metadata": {},
   "outputs": [
    {
     "data": {
      "text/plain": [
       "'C'"
      ]
     },
     "execution_count": 11,
     "metadata": {},
     "output_type": "execute_result"
    }
   ],
   "source": [
    "mpra_seq[99] #reference allele \"C\" at position 100 in the sequence , 99 bp left flank, 100 bp right flank "
   ]
  },
  {
   "cell_type": "code",
   "execution_count": 12,
   "metadata": {},
   "outputs": [
    {
     "name": "stdout",
     "output_type": "stream",
     "text": [
      "99\n",
      "100\n"
     ]
    }
   ],
   "source": [
    "## extract the 1kb region centered at the SNP \n",
    "X,seqs=get_inputs(snp_chrom,snp_pos)\n"
   ]
  },
  {
   "cell_type": "code",
   "execution_count": 13,
   "metadata": {},
   "outputs": [
    {
     "data": {
      "text/plain": [
       "(1, 1, 200, 4)"
      ]
     },
     "execution_count": 13,
     "metadata": {},
     "output_type": "execute_result"
    }
   ],
   "source": [
    "X['A'].shape"
   ]
  },
  {
   "cell_type": "code",
   "execution_count": 14,
   "metadata": {},
   "outputs": [
    {
     "data": {
      "text/plain": [
       "'tgtgtttgatttattgaggaaatgttcttcaggaaaaaatccaaaagggaatgagggtagtagcactggaaagggggaagagcagaacaaggacgtgacCtcaggcaaagtctagctttggcctgattcaggcggggtgctaagctttgaagcaAAGGGCCTGTTGTTTCTGCCCTCCGCTAAGGTAGGCAGTGGAGGAG'"
      ]
     },
     "execution_count": 14,
     "metadata": {},
     "output_type": "execute_result"
    }
   ],
   "source": [
    "seqs['C']"
   ]
  },
  {
   "cell_type": "code",
   "execution_count": 15,
   "metadata": {},
   "outputs": [
    {
     "data": {
      "text/plain": [
       "True"
      ]
     },
     "execution_count": 15,
     "metadata": {},
     "output_type": "execute_result"
    }
   ],
   "source": [
    "#verify we have extracted the same sequence that was used in the MPRA \n",
    "seqs['C'].upper()==mpra_seq.upper()"
   ]
  },
  {
   "cell_type": "code",
   "execution_count": 16,
   "metadata": {},
   "outputs": [
    {
     "name": "stdout",
     "output_type": "stream",
     "text": [
      "499\n",
      "500\n"
     ]
    },
    {
     "data": {
      "text/plain": [
       "(1, 1, 1000, 4)"
      ]
     },
     "execution_count": 16,
     "metadata": {},
     "output_type": "execute_result"
    }
   ],
   "source": [
    "#Now, pad to 1000 bp by using a 500 bp flank \n",
    "X,seqs=get_inputs(snp_chrom,snp_pos,left_flank=499,right_flank=500)\n",
    "X['A'].shape"
   ]
  },
  {
   "cell_type": "code",
   "execution_count": 17,
   "metadata": {},
   "outputs": [
    {
     "name": "stdout",
     "output_type": "stream",
     "text": [
      "\tHealthy\tTumor\tSW480\tHCT116\tCOLO205\n",
      "A\t0.022\t0.167\t0.24\t0.038\t0.122\n",
      "C\t0.02\t0.162\t0.105\t0.043\t0.096\n",
      "G\t0.031\t0.262\t0.305\t0.075\t0.154\n",
      "T\t0.019\t0.139\t0.125\t0.032\t0.093\n"
     ]
    }
   ],
   "source": [
    "## pretty print\n",
    "tasks=['Healthy','Tumor','SW480','HCT116','COLO205']\n",
    "\n",
    "print('\\t'+'\\t'.join(tasks))\n",
    "for base in ['A','C','G','T']:\n",
    "    print(base+'\\t'+'\\t'.join([str(round(i,3)) for i in model.predict(X[base])[0]]))"
   ]
  },
  {
   "cell_type": "code",
   "execution_count": null,
   "metadata": {},
   "outputs": [],
   "source": [
    "split"
   ]
  },
  {
   "cell_type": "code",
   "execution_count": null,
   "metadata": {},
   "outputs": [],
   "source": [
    "## Healthy\tTumor\tSW480\tHCT116\tCOLO205 (task order)\n",
    "dl_scores_A=dict() \n",
    "for t_index in range(5):\n",
    "    dl_scores_A[tasks[t_index]]=score_func(\n",
    "                        task_idx=t_index,\n",
    "                        input_data_list=[X['A']],\n",
    "                        batch_size=1,\n",
    "                        progress_update=None,\n",
    "                        input_references_list=input_references)"
   ]
  },
  {
   "cell_type": "code",
   "execution_count": null,
   "metadata": {},
   "outputs": [],
   "source": [
    "## Healthy\tTumor\tSW480\tHCT116\tCOLO205 (task order)\n",
    "dl_scores_C=dict() \n",
    "for t_index in range(5):\n",
    "    dl_scores_C[tasks[t_index]]=score_func(\n",
    "                        task_idx=t_index,\n",
    "                        input_data_list=[X['C']],\n",
    "                        batch_size=1,\n",
    "                        progress_update=None,\n",
    "                        input_references_list=input_references)"
   ]
  },
  {
   "cell_type": "code",
   "execution_count": null,
   "metadata": {},
   "outputs": [],
   "source": [
    "## Healthy\tTumor\tSW480\tHCT116\tCOLO205 (task order)\n",
    "dl_scores_G=dict() \n",
    "for t_index in range(5):\n",
    "    dl_scores_G[tasks[t_index]]=score_func(\n",
    "                        task_idx=t_index,\n",
    "                        input_data_list=[X['G']],\n",
    "                        batch_size=1,\n",
    "                        progress_update=None,\n",
    "                        input_references_list=input_references)"
   ]
  },
  {
   "cell_type": "code",
   "execution_count": null,
   "metadata": {},
   "outputs": [],
   "source": [
    "## Healthy\tTumor\tSW480\tHCT116\tCOLO205 (task order)\n",
    "dl_scores_T=dict() \n",
    "for t_index in range(5):\n",
    "    dl_scores_T[tasks[t_index]]=score_func(\n",
    "                        task_idx=t_index,\n",
    "                        input_data_list=[X['T']],\n",
    "                        batch_size=1,\n",
    "                        progress_update=None,\n",
    "                        input_references_list=input_references)"
   ]
  },
  {
   "cell_type": "code",
   "execution_count": null,
   "metadata": {},
   "outputs": [],
   "source": [
    "from dragonn.vis import  plot_seq_importance"
   ]
  },
  {
   "cell_type": "markdown",
   "metadata": {},
   "source": [
    "## Healthy DeepLIFT Scores "
   ]
  },
  {
   "cell_type": "code",
   "execution_count": null,
   "metadata": {},
   "outputs": [],
   "source": [
    "ylim=(-.25,0.25)"
   ]
  },
  {
   "cell_type": "code",
   "execution_count": null,
   "metadata": {
    "scrolled": true
   },
   "outputs": [],
   "source": [
    "tmp1=dl_scores_A['Healthy'][0].squeeze()[400:600]\n",
    "tmp2=X['A'].squeeze()[400:600]\n",
    "plot_seq_importance(tmp1,tmp2,ylim=ylim)"
   ]
  },
  {
   "cell_type": "code",
   "execution_count": null,
   "metadata": {
    "scrolled": true
   },
   "outputs": [],
   "source": [
    "tmp3=dl_scores_C['Healthy'][0].squeeze()[400:600]\n",
    "tmp4=X['C'].squeeze()[400:600]\n",
    "plot_seq_importance(tmp3,tmp4,ylim=ylim)"
   ]
  },
  {
   "cell_type": "code",
   "execution_count": null,
   "metadata": {
    "scrolled": true
   },
   "outputs": [],
   "source": [
    "tmp5=dl_scores_G['Healthy'][0].squeeze()[400:600]\n",
    "tmp6=X['G'].squeeze()[400:600]\n",
    "plot_seq_importance(tmp5,tmp6,ylim=ylim)"
   ]
  },
  {
   "cell_type": "code",
   "execution_count": null,
   "metadata": {
    "scrolled": true
   },
   "outputs": [],
   "source": [
    "tmp7=dl_scores_T['Healthy'][0].squeeze()[400:600]\n",
    "tmp8=X['T'].squeeze()[400:600]\n",
    "plot_seq_importance(tmp7,tmp8,ylim=ylim)"
   ]
  },
  {
   "cell_type": "code",
   "execution_count": null,
   "metadata": {},
   "outputs": [],
   "source": [
    "#delta track for the alternate G allele - reference C allele (with G at position 100)\n",
    "plot_seq_importance(tmp5-tmp3,tmp6,ylim=ylim)"
   ]
  },
  {
   "cell_type": "markdown",
   "metadata": {},
   "source": [
    "## Tumor"
   ]
  },
  {
   "cell_type": "code",
   "execution_count": null,
   "metadata": {
    "scrolled": true
   },
   "outputs": [],
   "source": [
    "tmp1=dl_scores_A['Tumor'][0].squeeze()[400:600]\n",
    "tmp2=X['A'].squeeze()[400:600]\n",
    "plot_seq_importance(tmp1,tmp2,ylim=ylim)"
   ]
  },
  {
   "cell_type": "code",
   "execution_count": null,
   "metadata": {
    "scrolled": true
   },
   "outputs": [],
   "source": [
    "tmp3=dl_scores_C['Tumor'][0].squeeze()[400:600]\n",
    "tmp4=X['C'].squeeze()[400:600]\n",
    "plot_seq_importance(tmp3,tmp4,ylim=ylim)"
   ]
  },
  {
   "cell_type": "code",
   "execution_count": null,
   "metadata": {
    "scrolled": true
   },
   "outputs": [],
   "source": [
    "tmp5=dl_scores_G['Tumor'][0].squeeze()[400:600]\n",
    "tmp6=X['G'].squeeze()[400:600]\n",
    "plot_seq_importance(tmp5,tmp6,ylim=ylim)"
   ]
  },
  {
   "cell_type": "code",
   "execution_count": null,
   "metadata": {
    "scrolled": true
   },
   "outputs": [],
   "source": [
    "tmp7=dl_scores_T['Tumor'][0].squeeze()[400:600]\n",
    "tmp8=X['T'].squeeze()[400:600]\n",
    "plot_seq_importance(tmp7,tmp8,ylim=ylim)"
   ]
  },
  {
   "cell_type": "code",
   "execution_count": null,
   "metadata": {},
   "outputs": [],
   "source": [
    "#delta track for the alternate G allele - reference C allele (with G at position 100)\n",
    "plot_seq_importance(tmp5-tmp3,tmp6,ylim=ylim)"
   ]
  },
  {
   "cell_type": "markdown",
   "metadata": {},
   "source": [
    "## SW480"
   ]
  },
  {
   "cell_type": "code",
   "execution_count": null,
   "metadata": {
    "scrolled": true
   },
   "outputs": [],
   "source": [
    "tmp1=dl_scores_A['SW480'][0].squeeze()[400:600]\n",
    "tmp2=X['A'].squeeze()[400:600]\n",
    "plot_seq_importance(tmp1,tmp2,ylim=ylim)"
   ]
  },
  {
   "cell_type": "code",
   "execution_count": null,
   "metadata": {
    "scrolled": true
   },
   "outputs": [],
   "source": [
    "tmp3=dl_scores_C['SW480'][0].squeeze()[400:600]\n",
    "tmp4=X['C'].squeeze()[400:600]\n",
    "plot_seq_importance(tmp3,tmp4,ylim=ylim)"
   ]
  },
  {
   "cell_type": "code",
   "execution_count": null,
   "metadata": {
    "scrolled": false
   },
   "outputs": [],
   "source": [
    "tmp5=dl_scores_G['SW480'][0].squeeze()[400:600]\n",
    "tmp6=X['G'].squeeze()[400:600]\n",
    "plot_seq_importance(tmp5,tmp6,ylim=ylim)"
   ]
  },
  {
   "cell_type": "code",
   "execution_count": null,
   "metadata": {
    "scrolled": false
   },
   "outputs": [],
   "source": [
    "tmp7=dl_scores_T['SW480'][0].squeeze()[400:600]\n",
    "tmp8=X['T'].squeeze()[400:600]\n",
    "plot_seq_importance(tmp7,tmp8,ylim=ylim)"
   ]
  },
  {
   "cell_type": "code",
   "execution_count": null,
   "metadata": {},
   "outputs": [],
   "source": [
    "#delta track for the alternate G allele - reference C allele (with G at position 100)\n",
    "plot_seq_importance(tmp5-tmp3,tmp6,ylim=ylim)"
   ]
  },
  {
   "cell_type": "markdown",
   "metadata": {},
   "source": [
    "## COLO205"
   ]
  },
  {
   "cell_type": "code",
   "execution_count": null,
   "metadata": {
    "scrolled": false
   },
   "outputs": [],
   "source": [
    "tmp1=dl_scores_A['COLO205'][0].squeeze()[400:600]\n",
    "tmp2=X['A'].squeeze()[400:600]\n",
    "plot_seq_importance(tmp1,tmp2,ylim=ylim)"
   ]
  },
  {
   "cell_type": "code",
   "execution_count": null,
   "metadata": {
    "scrolled": true
   },
   "outputs": [],
   "source": [
    "tmp3=dl_scores_C['COLO205'][0].squeeze()[400:600]\n",
    "tmp4=X['C'].squeeze()[400:600]\n",
    "plot_seq_importance(tmp3,tmp4,ylim=ylim)"
   ]
  },
  {
   "cell_type": "code",
   "execution_count": null,
   "metadata": {
    "scrolled": true
   },
   "outputs": [],
   "source": [
    "tmp5=dl_scores_G['COLO205'][0].squeeze()[400:600]\n",
    "tmp6=X['G'].squeeze()[400:600]\n",
    "plot_seq_importance(tmp5,tmp6,ylim=ylim)"
   ]
  },
  {
   "cell_type": "code",
   "execution_count": null,
   "metadata": {
    "scrolled": true
   },
   "outputs": [],
   "source": [
    "tmp7=dl_scores_T['COLO205'][0].squeeze()[400:600]\n",
    "tmp8=X['T'].squeeze()[400:600]\n",
    "plot_seq_importance(tmp7,tmp8,ylim=ylim)"
   ]
  },
  {
   "cell_type": "code",
   "execution_count": null,
   "metadata": {
    "scrolled": true
   },
   "outputs": [],
   "source": [
    "#delta track for the alternate G allele - reference C allele (with G at position 100)\n",
    "plot_seq_importance(tmp5-tmp3,tmp6,ylim=ylim)"
   ]
  },
  {
   "cell_type": "markdown",
   "metadata": {},
   "source": [
    "## HCT116"
   ]
  },
  {
   "cell_type": "code",
   "execution_count": null,
   "metadata": {
    "scrolled": true
   },
   "outputs": [],
   "source": [
    "tmp1=dl_scores_A['HCT116'][0].squeeze()[400:600]\n",
    "tmp2=X['A'].squeeze()[400:600]\n",
    "plot_seq_importance(tmp1,tmp2,ylim=ylim)"
   ]
  },
  {
   "cell_type": "code",
   "execution_count": null,
   "metadata": {
    "scrolled": true
   },
   "outputs": [],
   "source": [
    "tmp3=dl_scores_C['HCT116'][0].squeeze()[400:600]\n",
    "tmp4=X['C'].squeeze()[400:600]\n",
    "plot_seq_importance(tmp3,tmp4,ylim=ylim)"
   ]
  },
  {
   "cell_type": "code",
   "execution_count": null,
   "metadata": {
    "scrolled": true
   },
   "outputs": [],
   "source": [
    "tmp5=dl_scores_G['HCT116'][0].squeeze()[400:600]\n",
    "tmp6=X['G'].squeeze()[400:600]\n",
    "plot_seq_importance(tmp5,tmp6,ylim=ylim)"
   ]
  },
  {
   "cell_type": "code",
   "execution_count": null,
   "metadata": {
    "scrolled": true
   },
   "outputs": [],
   "source": [
    "tmp7=dl_scores_T['HCT116'][0].squeeze()[400:600]\n",
    "tmp8=X['T'].squeeze()[400:600]\n",
    "plot_seq_importance(tmp7,tmp8,ylim=ylim)"
   ]
  },
  {
   "cell_type": "code",
   "execution_count": null,
   "metadata": {
    "scrolled": true
   },
   "outputs": [],
   "source": [
    "#delta track for the alternate G allele - reference C allele (with G at position 100)\n",
    "plot_seq_importance(tmp5-tmp3,tmp6,ylim=ylim)"
   ]
  },
  {
   "cell_type": "code",
   "execution_count": null,
   "metadata": {},
   "outputs": [],
   "source": []
  },
  {
   "cell_type": "code",
   "execution_count": null,
   "metadata": {},
   "outputs": [],
   "source": [
    "import pandas as pd \n",
    "mpra=pd.read_csv(\"/srv/scratch/annashch/gecco/20190207_Pilot_Data_Freeze_1/CC_Pilot_HCT116_SNPS_20180208.out\",header=0,sep='\\t')"
   ]
  },
  {
   "cell_type": "code",
   "execution_count": null,
   "metadata": {
    "scrolled": false
   },
   "outputs": [],
   "source": [
    "mpra[mpra['SNP']==snp][['SNP','window','strand','allele','A.log2FC','B.log2FC']]"
   ]
  },
  {
   "cell_type": "code",
   "execution_count": null,
   "metadata": {},
   "outputs": [],
   "source": [
    "import pandas as pd \n",
    "mpra=pd.read_csv(\"/srv/scratch/annashch/gecco/20190207_Pilot_Data_Freeze_1/CC_Pilot_SW480_SNPS_20180208.out\",header=0,sep='\\t')"
   ]
  },
  {
   "cell_type": "code",
   "execution_count": null,
   "metadata": {},
   "outputs": [],
   "source": [
    "mpra[mpra['SNP']==snp][['SNP','window','strand','allele','A.log2FC','B.log2FC']]"
   ]
  },
  {
   "cell_type": "code",
   "execution_count": null,
   "metadata": {},
   "outputs": [],
   "source": []
  }
 ],
 "metadata": {
  "kernelspec": {
   "display_name": "Python 3",
   "language": "python",
   "name": "python3"
  },
  "language_info": {
   "codemirror_mode": {
    "name": "ipython",
    "version": 3
   },
   "file_extension": ".py",
   "mimetype": "text/x-python",
   "name": "python",
   "nbconvert_exporter": "python",
   "pygments_lexer": "ipython3",
   "version": "3.6.8"
  }
 },
 "nbformat": 4,
 "nbformat_minor": 2
}
